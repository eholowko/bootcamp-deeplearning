{
 "cells": [
  {
   "cell_type": "code",
   "execution_count": 20,
   "metadata": {},
   "outputs": [],
   "source": [
    "import numpy as np\n",
    "import pandas as pd\n",
    "import os\n",
    "import matplotlib.pyplot as plt\n",
    "\n",
    "from sklearn.model_selection import train_test_split\n",
    "\n",
    "from keras.utils import to_categorical\n",
    "from keras.layers import Flatten\n",
    "from keras.models import Sequential\n",
    "from keras.layers import Dense,Activation\n",
    "from keras.callbacks import EarlyStopping,ModelCheckpoint\n",
    "from keras.layers import Conv2D\n",
    "from keras.layers import MaxPooling2D,AveragePooling2D\n",
    "from keras.layers import Dropout\n",
    "from keras.preprocessing.image import ImageDataGenerator\n",
    "\n",
    "from keras.datasets import cifar10"
   ]
  },
  {
   "cell_type": "markdown",
   "metadata": {},
   "source": [
    "# RGB cifar10"
   ]
  },
  {
   "cell_type": "code",
   "execution_count": 24,
   "metadata": {},
   "outputs": [],
   "source": [
    "(X_train,y_train),(X_test,y_test) = cifar10.load_data()"
   ]
  },
  {
   "cell_type": "code",
   "execution_count": 25,
   "metadata": {},
   "outputs": [
    {
     "data": {
      "text/plain": [
       "(50000, 32, 32, 3)"
      ]
     },
     "execution_count": 25,
     "metadata": {},
     "output_type": "execute_result"
    }
   ],
   "source": [
    "X_train.shape"
   ]
  },
  {
   "cell_type": "code",
   "execution_count": 26,
   "metadata": {},
   "outputs": [
    {
     "data": {
      "text/plain": [
       "array([0, 1, 2, 3, 4, 5, 6, 7, 8, 9], dtype=uint8)"
      ]
     },
     "execution_count": 26,
     "metadata": {},
     "output_type": "execute_result"
    }
   ],
   "source": [
    "np.unique(y_train)"
   ]
  },
  {
   "cell_type": "markdown",
   "metadata": {},
   "source": [
    "### limit to 4 classes"
   ]
  },
  {
   "cell_type": "code",
   "execution_count": 27,
   "metadata": {},
   "outputs": [],
   "source": [
    "nb_classes = 4\n",
    "n_samples = 7000"
   ]
  },
  {
   "cell_type": "code",
   "execution_count": 28,
   "metadata": {},
   "outputs": [],
   "source": [
    "X_train = X_train[np.where(y_train<4)[0]]\n",
    "y_train = y_train[np.where(y_train<4)[0]]"
   ]
  },
  {
   "cell_type": "code",
   "execution_count": 29,
   "metadata": {},
   "outputs": [
    {
     "data": {
      "text/plain": [
       "(20000, 32, 32, 3)"
      ]
     },
     "execution_count": 29,
     "metadata": {},
     "output_type": "execute_result"
    }
   ],
   "source": [
    "X_train.shape"
   ]
  },
  {
   "cell_type": "code",
   "execution_count": 30,
   "metadata": {},
   "outputs": [],
   "source": [
    "X_train = X_train[:n_samples]\n",
    "y_train = y_train[:n_samples]"
   ]
  },
  {
   "cell_type": "code",
   "execution_count": 31,
   "metadata": {},
   "outputs": [],
   "source": [
    "X_test = X_test[np.where(y_test<4)[0]]\n",
    "y_test = y_test[np.where(y_test<4)[0]]"
   ]
  },
  {
   "cell_type": "code",
   "execution_count": 32,
   "metadata": {},
   "outputs": [
    {
     "data": {
      "text/plain": [
       "(7000, 32, 32, 3)"
      ]
     },
     "execution_count": 32,
     "metadata": {},
     "output_type": "execute_result"
    }
   ],
   "source": [
    "X_train.shape"
   ]
  },
  {
   "cell_type": "code",
   "execution_count": 33,
   "metadata": {},
   "outputs": [
    {
     "data": {
      "image/png": "[encoded data removed]",
      "text/plain": [
       "<Figure size 432x288 with 1 Axes>"
      ]
     },
     "metadata": {},
     "output_type": "display_data"
    }
   ],
   "source": [
    "plt.imshow(X_train[6])\n",
    "plt.show()"
   ]
  },
  {
   "cell_type": "markdown",
   "metadata": {},
   "source": [
    "### Rescaling to smaller values"
   ]
  },
  {
   "cell_type": "code",
   "execution_count": 34,
   "metadata": {},
   "outputs": [],
   "source": [
    "X_train = X_train/255\n",
    "X_test = X_test/255"
   ]
  },
  {
   "cell_type": "code",
   "execution_count": 35,
   "metadata": {},
   "outputs": [
    {
     "data": {
      "text/plain": [
       "(4000, 32, 32, 3)"
      ]
     },
     "execution_count": 35,
     "metadata": {},
     "output_type": "execute_result"
    }
   ],
   "source": [
    "X_test.shape"
   ]
  },
  {
   "cell_type": "code",
   "execution_count": 36,
   "metadata": {},
   "outputs": [],
   "source": [
    "y_train = to_categorical(y_train)\n",
    "y_test = to_categorical(y_test)"
   ]
  },
  {
   "cell_type": "markdown",
   "metadata": {},
   "source": [
    "### One-layer network with maxpooling\n",
    "\n",
    "Filter : 32 with kernel 3x3, same padding, activation relu, subsampling: sqare 2x2"
   ]
  },
  {
   "cell_type": "code",
   "execution_count": 22,
   "metadata": {},
   "outputs": [
    {
     "name": "stdout",
     "output_type": "stream",
     "text": [
      "_________________________________________________________________\n",
      "Layer (type)                 Output Shape              Param #   \n",
      "=================================================================\n",
      "sequential_1 (Sequential)    (None, 32, 32, 32)        896       \n",
      "_________________________________________________________________\n",
      "max_pooling2d_1 (MaxPooling2 (None, 16, 16, 32)        0         \n",
      "_________________________________________________________________\n",
      "flatten_1 (Flatten)          (None, 8192)              0         \n",
      "_________________________________________________________________\n",
      "dense_1 (Dense)              (None, 4)                 32772     \n",
      "=================================================================\n",
      "Total params: 33,668\n",
      "Trainable params: 33,668\n",
      "Non-trainable params: 0\n",
      "_________________________________________________________________\n"
     ]
    }
   ],
   "source": [
    "feature_extractor = Sequential()\n",
    "feature_extractor.add(Conv2D(32,(3,3),activation='relu',input_shape = (32,32,3),padding='same'))\n",
    "model1 = Sequential()\n",
    "model1.add(feature_extractor)\n",
    "model1.add(MaxPooling2D())\n",
    "model1.add(Flatten())\n",
    "model1.add(Dense(4,activation='softmax'))\n",
    "model1.compile(loss='categorical_crossentropy',optimizer='Adam',metrics=['accuracy'])\n",
    "early_stopping = EarlyStopping(patience=3)\n",
    "model1.summary()"
   ]
  },
  {
   "cell_type": "code",
   "execution_count": 37,
   "metadata": {},
   "outputs": [
    {
     "name": "stdout",
     "output_type": "stream",
     "text": [
      "Train on 5250 samples, validate on 1750 samples\n",
      "Epoch 1/100\n",
      " - 6s - loss: 1.0466 - acc: 0.5571 - val_loss: 0.8733 - val_acc: 0.6771\n",
      "Epoch 2/100\n",
      " - 5s - loss: 0.7747 - acc: 0.7048 - val_loss: 0.8028 - val_acc: 0.6777\n",
      "Epoch 3/100\n",
      " - 5s - loss: 0.6728 - acc: 0.7343 - val_loss: 0.7381 - val_acc: 0.7126\n",
      "Epoch 4/100\n",
      " - 5s - loss: 0.6175 - acc: 0.7579 - val_loss: 0.7146 - val_acc: 0.7274\n",
      "Epoch 5/100\n",
      " - 6s - loss: 0.5832 - acc: 0.7810 - val_loss: 0.6945 - val_acc: 0.7229\n",
      "Epoch 6/100\n",
      " - 6s - loss: 0.5537 - acc: 0.7886 - val_loss: 0.7027 - val_acc: 0.7314\n",
      "Epoch 7/100\n",
      " - 7s - loss: 0.5158 - acc: 0.8044 - val_loss: 0.6890 - val_acc: 0.7297\n",
      "Epoch 8/100\n",
      " - 6s - loss: 0.4887 - acc: 0.8131 - val_loss: 0.6458 - val_acc: 0.7480\n",
      "Epoch 9/100\n",
      " - 7s - loss: 0.4658 - acc: 0.8274 - val_loss: 0.6658 - val_acc: 0.7389\n",
      "Epoch 10/100\n",
      " - 6s - loss: 0.4549 - acc: 0.8299 - val_loss: 0.6492 - val_acc: 0.7434\n",
      "Epoch 11/100\n",
      " - 8s - loss: 0.4323 - acc: 0.8392 - val_loss: 0.6821 - val_acc: 0.7360\n"
     ]
    },
    {
     "data": {
      "text/plain": [
       "<keras.callbacks.History at 0x7f1ff11a6470>"
      ]
     },
     "execution_count": 37,
     "metadata": {},
     "output_type": "execute_result"
    }
   ],
   "source": [
    "model1.fit(X_train,y_train,validation_split=0.25,epochs=100,callbacks=[early_stopping],verbose=2)"
   ]
  },
  {
   "cell_type": "code",
   "execution_count": 38,
   "metadata": {},
   "outputs": [
    {
     "name": "stdout",
     "output_type": "stream",
     "text": [
      "7000/7000 [==============================] - 5s 773us/step\n",
      "[0.48901857376098634, 0.8134285713604519]\n",
      "4000/4000 [==============================] - 3s 710us/step\n",
      "[0.6561691768169403, 0.752]\n"
     ]
    }
   ],
   "source": [
    "print(model1.evaluate(X_train,y_train))\n",
    "print(model1.evaluate(X_test,y_test))"
   ]
  },
  {
   "cell_type": "code",
   "execution_count": 39,
   "metadata": {},
   "outputs": [
    {
     "data": {
      "image/png": "[encoded data removed]",
      "text/plain": [
       "<Figure size 432x288 with 1 Axes>"
      ]
     },
     "metadata": {},
     "output_type": "display_data"
    }
   ],
   "source": [
    "plt.imshow(X_train[2])\n",
    "plt.show()"
   ]
  },
  {
   "cell_type": "code",
   "execution_count": 44,
   "metadata": {},
   "outputs": [
    {
     "data": {
      "image/png": "[encoded data removed]",
      "text/plain": [
       "<Figure size 432x288 with 1 Axes>"
      ]
     },
     "metadata": {},
     "output_type": "display_data"
    }
   ],
   "source": [
    "post_conv_pred = feature_extractor.predict(X_train[:3])\n",
    "plt.imshow(post_conv_pred[2,:,:,1],cmap='gray')\n",
    "plt.show()"
   ]
  },
  {
   "cell_type": "markdown",
   "metadata": {},
   "source": [
    "### Add dense layer"
   ]
  },
  {
   "cell_type": "code",
   "execution_count": 45,
   "metadata": {},
   "outputs": [
    {
     "name": "stdout",
     "output_type": "stream",
     "text": [
      "_________________________________________________________________\n",
      "Layer (type)                 Output Shape              Param #   \n",
      "=================================================================\n",
      "sequential_3 (Sequential)    (None, 32, 32, 32)        2432      \n",
      "_________________________________________________________________\n",
      "max_pooling2d_2 (MaxPooling2 (None, 16, 16, 32)        0         \n",
      "_________________________________________________________________\n",
      "flatten_2 (Flatten)          (None, 8192)              0         \n",
      "_________________________________________________________________\n",
      "dense_2 (Dense)              (None, 200)               1638600   \n",
      "_________________________________________________________________\n",
      "dense_3 (Dense)              (None, 4)                 804       \n",
      "=================================================================\n",
      "Total params: 1,641,836\n",
      "Trainable params: 1,641,836\n",
      "Non-trainable params: 0\n",
      "_________________________________________________________________\n"
     ]
    }
   ],
   "source": [
    "feature_extractor = Sequential()\n",
    "feature_extractor.add(Conv2D(32,(5,5),activation='relu',input_shape = (32,32,3),padding='same'))\n",
    "model2 = Sequential()\n",
    "model2.add(feature_extractor)\n",
    "model2.add(MaxPooling2D())\n",
    "model2.add(Flatten())\n",
    "model2.add(Dense(200,activation='relu'))\n",
    "model2.add(Dense(4,activation='softmax'))\n",
    "model2.compile(loss='categorical_crossentropy',optimizer='Adam',metrics=['accuracy'])\n",
    "early_stopping = EarlyStopping(patience=3)\n",
    "model2.summary()"
   ]
  },
  {
   "cell_type": "code",
   "execution_count": 46,
   "metadata": {},
   "outputs": [
    {
     "name": "stdout",
     "output_type": "stream",
     "text": [
      "Train on 5250 samples, validate on 1750 samples\n",
      "Epoch 1/100\n",
      " - 16s - loss: 0.9717 - acc: 0.6010 - val_loss: 0.8327 - val_acc: 0.6509\n",
      "Epoch 2/100\n",
      " - 17s - loss: 0.6831 - acc: 0.7362 - val_loss: 0.7563 - val_acc: 0.7051\n",
      "Epoch 3/100\n",
      " - 14s - loss: 0.5915 - acc: 0.7716 - val_loss: 0.6892 - val_acc: 0.7303\n",
      "Epoch 4/100\n",
      " - 16s - loss: 0.5270 - acc: 0.7952 - val_loss: 0.6921 - val_acc: 0.7303\n",
      "Epoch 5/100\n",
      " - 15s - loss: 0.4553 - acc: 0.8265 - val_loss: 0.6674 - val_acc: 0.7457\n",
      "Epoch 6/100\n",
      " - 14s - loss: 0.3884 - acc: 0.8539 - val_loss: 0.8450 - val_acc: 0.7011\n",
      "Epoch 7/100\n",
      " - 13s - loss: 0.3515 - acc: 0.8720 - val_loss: 0.6768 - val_acc: 0.7651\n",
      "Epoch 8/100\n",
      " - 13s - loss: 0.2770 - acc: 0.8960 - val_loss: 0.7473 - val_acc: 0.7526\n"
     ]
    },
    {
     "data": {
      "text/plain": [
       "<keras.callbacks.History at 0x7f1ff56c77f0>"
      ]
     },
     "execution_count": 46,
     "metadata": {},
     "output_type": "execute_result"
    }
   ],
   "source": [
    "model2.fit(X_train,y_train,validation_split=0.25,epochs=100,callbacks=[early_stopping],verbose=2)"
   ]
  },
  {
   "cell_type": "code",
   "execution_count": 47,
   "metadata": {},
   "outputs": [
    {
     "name": "stdout",
     "output_type": "stream",
     "text": [
      "7000/7000 [==============================] - 10s 1ms/step\n",
      "[0.34071148330824713, 0.8868571429252624]\n",
      "4000/4000 [==============================] - 6s 2ms/step\n",
      "[0.7721961872577667, 0.75075]\n"
     ]
    }
   ],
   "source": [
    "print(model2.evaluate(X_train,y_train))\n",
    "print(model2.evaluate(X_test,y_test))"
   ]
  },
  {
   "cell_type": "markdown",
   "metadata": {},
   "source": [
    "### Two-layer network with maxpooling"
   ]
  },
  {
   "cell_type": "code",
   "execution_count": 106,
   "metadata": {},
   "outputs": [
    {
     "name": "stdout",
     "output_type": "stream",
     "text": [
      "_________________________________________________________________\n",
      "Layer (type)                 Output Shape              Param #   \n",
      "=================================================================\n",
      "conv2d_19 (Conv2D)           (None, 32, 32, 32)        2432      \n",
      "_________________________________________________________________\n",
      "max_pooling2d_15 (MaxPooling (None, 16, 16, 32)        0         \n",
      "_________________________________________________________________\n",
      "conv2d_20 (Conv2D)           (None, 16, 16, 64)        18496     \n",
      "_________________________________________________________________\n",
      "max_pooling2d_16 (MaxPooling (None, 8, 8, 64)          0         \n",
      "_________________________________________________________________\n",
      "flatten_21 (Flatten)         (None, 4096)              0         \n",
      "_________________________________________________________________\n",
      "dense_42 (Dense)             (None, 200)               819400    \n",
      "_________________________________________________________________\n",
      "dense_43 (Dense)             (None, 4)                 804       \n",
      "=================================================================\n",
      "Total params: 841,132\n",
      "Trainable params: 841,132\n",
      "Non-trainable params: 0\n",
      "_________________________________________________________________\n"
     ]
    }
   ],
   "source": [
    "model3 = Sequential()\n",
    "model3.add((Conv2D(32,(5,5),activation='relu',input_shape = (32,32,3),padding='same')))\n",
    "model3.add(MaxPooling2D())\n",
    "model3.add(Conv2D(64,(3,3),activation='relu',padding='same'))\n",
    "model3.add(MaxPooling2D())\n",
    "model3.add(Flatten())\n",
    "model3.add(Dense(200,activation='relu'))\n",
    "model3.add(Dense(4,activation='softmax'))\n",
    "model3.compile(loss='categorical_crossentropy',optimizer='Adam',metrics=['accuracy'])\n",
    "early_stopping = EarlyStopping(patience=3)\n",
    "model3.summary()"
   ]
  },
  {
   "cell_type": "code",
   "execution_count": 107,
   "metadata": {},
   "outputs": [
    {
     "name": "stdout",
     "output_type": "stream",
     "text": [
      "Train on 5250 samples, validate on 1750 samples\n",
      "Epoch 1/100\n",
      " - 24s - loss: 0.9988 - acc: 0.5760 - val_loss: 0.8527 - val_acc: 0.6617\n",
      "Epoch 2/100\n",
      " - 24s - loss: 0.7377 - acc: 0.7029 - val_loss: 0.8198 - val_acc: 0.6640\n",
      "Epoch 3/100\n",
      " - 16s - loss: 0.6385 - acc: 0.7509 - val_loss: 0.6361 - val_acc: 0.7514\n",
      "Epoch 4/100\n",
      " - 16s - loss: 0.5616 - acc: 0.7810 - val_loss: 0.6270 - val_acc: 0.7600\n",
      "Epoch 5/100\n",
      " - 17s - loss: 0.5043 - acc: 0.8015 - val_loss: 0.6215 - val_acc: 0.7503\n",
      "Epoch 6/100\n",
      " - 21s - loss: 0.4449 - acc: 0.8230 - val_loss: 0.7050 - val_acc: 0.7297\n",
      "Epoch 7/100\n",
      " - 18s - loss: 0.3841 - acc: 0.8514 - val_loss: 0.6965 - val_acc: 0.7520\n",
      "Epoch 8/100\n",
      " - 20s - loss: 0.3225 - acc: 0.8756 - val_loss: 0.6430 - val_acc: 0.7691\n"
     ]
    },
    {
     "data": {
      "text/plain": [
       "<keras.callbacks.History at 0x7f9bf1f113c8>"
      ]
     },
     "execution_count": 107,
     "metadata": {},
     "output_type": "execute_result"
    }
   ],
   "source": [
    "model3.fit(X_train,y_train,validation_split=0.25,epochs=100,callbacks=[early_stopping],verbose=2)"
   ]
  },
  {
   "cell_type": "code",
   "execution_count": 108,
   "metadata": {},
   "outputs": [
    {
     "name": "stdout",
     "output_type": "stream",
     "text": [
      "7000/7000 [==============================] - 14s 2ms/step\n",
      "[0.3607810848099845, 0.8672857142857143]\n"
     ]
    }
   ],
   "source": [
    "print(model3.evaluate(X_train,y_train))"
   ]
  },
  {
   "cell_type": "code",
   "execution_count": 109,
   "metadata": {},
   "outputs": [
    {
     "name": "stdout",
     "output_type": "stream",
     "text": [
      "4000/4000 [==============================] - 8s 2ms/step\n",
      "[0.6673524422645569, 0.7535]\n"
     ]
    }
   ],
   "source": [
    "print(model3.evaluate(X_test,y_test))"
   ]
  },
  {
   "cell_type": "markdown",
   "metadata": {},
   "source": [
    "### Two-layer network with dropout on hidden layer"
   ]
  },
  {
   "cell_type": "code",
   "execution_count": 111,
   "metadata": {},
   "outputs": [
    {
     "name": "stdout",
     "output_type": "stream",
     "text": [
      "_________________________________________________________________\n",
      "Layer (type)                 Output Shape              Param #   \n",
      "=================================================================\n",
      "conv2d_21 (Conv2D)           (None, 32, 32, 32)        2432      \n",
      "_________________________________________________________________\n",
      "max_pooling2d_17 (MaxPooling (None, 16, 16, 32)        0         \n",
      "_________________________________________________________________\n",
      "conv2d_22 (Conv2D)           (None, 16, 16, 64)        18496     \n",
      "_________________________________________________________________\n",
      "max_pooling2d_18 (MaxPooling (None, 8, 8, 64)          0         \n",
      "_________________________________________________________________\n",
      "flatten_22 (Flatten)         (None, 4096)              0         \n",
      "_________________________________________________________________\n",
      "dense_44 (Dense)             (None, 200)               819400    \n",
      "_________________________________________________________________\n",
      "dropout_1 (Dropout)          (None, 200)               0         \n",
      "_________________________________________________________________\n",
      "dense_45 (Dense)             (None, 4)                 804       \n",
      "=================================================================\n",
      "Total params: 841,132\n",
      "Trainable params: 841,132\n",
      "Non-trainable params: 0\n",
      "_________________________________________________________________\n"
     ]
    }
   ],
   "source": [
    "model4 = Sequential()\n",
    "model4.add(Conv2D(32,(5,5),activation='relu',input_shape = (32,32,3),padding='same'))\n",
    "model4.add(MaxPooling2D())\n",
    "model4.add(Conv2D(64,(3,3),activation='relu',padding='same'))\n",
    "model4.add(MaxPooling2D())\n",
    "model4.add(Flatten())\n",
    "model4.add(Dense(200,activation='relu'))\n",
    "model4.add(Dropout(0.4))\n",
    "model4.add(Dense(4,activation='softmax'))\n",
    "model4.compile(loss='categorical_crossentropy',optimizer='Adam',metrics=['accuracy'])\n",
    "early_stopping = EarlyStopping(patience=3)\n",
    "model4.summary()"
   ]
  },
  {
   "cell_type": "code",
   "execution_count": 112,
   "metadata": {},
   "outputs": [
    {
     "name": "stdout",
     "output_type": "stream",
     "text": [
      "Train on 5250 samples, validate on 1750 samples\n",
      "Epoch 1/100\n",
      " - 19s - loss: 1.0288 - acc: 0.5577 - val_loss: 0.8906 - val_acc: 0.6291\n",
      "Epoch 2/100\n",
      " - 15s - loss: 0.7827 - acc: 0.6779 - val_loss: 0.7058 - val_acc: 0.7183\n",
      "Epoch 3/100\n",
      " - 17s - loss: 0.6608 - acc: 0.7389 - val_loss: 0.6588 - val_acc: 0.7400\n",
      "Epoch 4/100\n",
      " - 16s - loss: 0.6015 - acc: 0.7627 - val_loss: 0.6373 - val_acc: 0.7486\n",
      "Epoch 5/100\n",
      " - 17s - loss: 0.5619 - acc: 0.7840 - val_loss: 0.6035 - val_acc: 0.7560\n",
      "Epoch 6/100\n",
      " - 20s - loss: 0.4990 - acc: 0.8046 - val_loss: 0.5855 - val_acc: 0.7743\n",
      "Epoch 7/100\n",
      " - 16s - loss: 0.4488 - acc: 0.8290 - val_loss: 0.7509 - val_acc: 0.7303\n",
      "Epoch 8/100\n",
      " - 16s - loss: 0.4727 - acc: 0.8185 - val_loss: 0.6182 - val_acc: 0.7686\n",
      "Epoch 9/100\n",
      " - 15s - loss: 0.3844 - acc: 0.8507 - val_loss: 0.6057 - val_acc: 0.7783\n"
     ]
    },
    {
     "data": {
      "text/plain": [
       "<keras.callbacks.History at 0x7f9bf1f119b0>"
      ]
     },
     "execution_count": 112,
     "metadata": {},
     "output_type": "execute_result"
    }
   ],
   "source": [
    "model4.fit(X_train,y_train,validation_split=0.25,epochs=100,callbacks=[early_stopping],verbose=2)"
   ]
  },
  {
   "cell_type": "code",
   "execution_count": 113,
   "metadata": {},
   "outputs": [
    {
     "name": "stdout",
     "output_type": "stream",
     "text": [
      "7000/7000 [==============================] - 14s 2ms/step\n",
      "[0.36781838297843933, 0.8701428570747376]\n"
     ]
    }
   ],
   "source": [
    "print(model4.evaluate(X_train,y_train))"
   ]
  },
  {
   "cell_type": "code",
   "execution_count": 114,
   "metadata": {},
   "outputs": [
    {
     "name": "stdout",
     "output_type": "stream",
     "text": [
      "4000/4000 [==============================] - 8s 2ms/step\n",
      "[0.5990896053314209, 0.7725]\n"
     ]
    }
   ],
   "source": [
    "print(model4.evaluate(X_test,y_test))"
   ]
  },
  {
   "cell_type": "markdown",
   "metadata": {},
   "source": [
    "### LeNet Network\n",
    "\n",
    "<img src=\"https://adeshpande3.github.io/assets/LeNet.png\" width=\"700\">\n",
    "Źródło: https://adeshpande3.github.io/assets/LeNet.png\""
   ]
  },
  {
   "cell_type": "code",
   "execution_count": 55,
   "metadata": {},
   "outputs": [
    {
     "name": "stdout",
     "output_type": "stream",
     "text": [
      "_________________________________________________________________\n",
      "Layer (type)                 Output Shape              Param #   \n",
      "=================================================================\n",
      "conv2d_10 (Conv2D)           (None, 28, 28, 6)         456       \n",
      "_________________________________________________________________\n",
      "max_pooling2d_7 (MaxPooling2 (None, 14, 14, 6)         0         \n",
      "_________________________________________________________________\n",
      "conv2d_11 (Conv2D)           (None, 10, 10, 16)        2416      \n",
      "_________________________________________________________________\n",
      "max_pooling2d_8 (MaxPooling2 (None, 5, 5, 16)          0         \n",
      "_________________________________________________________________\n",
      "flatten_5 (Flatten)          (None, 400)               0         \n",
      "_________________________________________________________________\n",
      "dense_8 (Dense)              (None, 120)               48120     \n",
      "_________________________________________________________________\n",
      "dense_9 (Dense)              (None, 84)                10164     \n",
      "_________________________________________________________________\n",
      "dense_10 (Dense)             (None, 4)                 340       \n",
      "=================================================================\n",
      "Total params: 61,496\n",
      "Trainable params: 61,496\n",
      "Non-trainable params: 0\n",
      "_________________________________________________________________\n"
     ]
    }
   ],
   "source": [
    "model5 = Sequential()\n",
    "model5.add(Conv2D(6,(5,5),activation='relu',input_shape = (32,32,3),padding='valid'))\n",
    "model5.add(MaxPooling2D())\n",
    "model5.add(Conv2D(16,(5,5),activation='relu',padding='valid'))\n",
    "model5.add(MaxPooling2D())\n",
    "model5.add(Flatten())\n",
    "model5.add(Dense(120,activation='relu'))\n",
    "model5.add(Dense(84,activation='relu'))\n",
    "model5.add(Dense(4,activation='softmax'))\n",
    "model5.compile(loss='categorical_crossentropy',optimizer='Adam',metrics=['accuracy'])\n",
    "early_stopping = EarlyStopping(patience=3)\n",
    "model5.summary()"
   ]
  },
  {
   "cell_type": "code",
   "execution_count": 56,
   "metadata": {},
   "outputs": [
    {
     "name": "stdout",
     "output_type": "stream",
     "text": [
      "Train on 5250 samples, validate on 1750 samples\n",
      "Epoch 1/100\n",
      " - 9s - loss: 1.0655 - acc: 0.5278 - val_loss: 1.0344 - val_acc: 0.5589\n",
      "Epoch 2/100\n",
      " - 7s - loss: 0.8207 - acc: 0.6623 - val_loss: 0.8391 - val_acc: 0.6343\n",
      "Epoch 3/100\n",
      " - 8s - loss: 0.7661 - acc: 0.6821 - val_loss: 0.8184 - val_acc: 0.6634\n",
      "Epoch 4/100\n",
      " - 7s - loss: 0.7199 - acc: 0.7107 - val_loss: 0.7872 - val_acc: 0.6783\n",
      "Epoch 5/100\n",
      " - 7s - loss: 0.6702 - acc: 0.7240 - val_loss: 0.7882 - val_acc: 0.6886\n",
      "Epoch 6/100\n",
      " - 7s - loss: 0.6234 - acc: 0.7556 - val_loss: 0.7284 - val_acc: 0.7040\n",
      "Epoch 7/100\n",
      " - 8s - loss: 0.5851 - acc: 0.7610 - val_loss: 0.7303 - val_acc: 0.7114\n",
      "Epoch 8/100\n",
      " - 7s - loss: 0.5896 - acc: 0.7648 - val_loss: 0.6878 - val_acc: 0.7240\n",
      "Epoch 9/100\n",
      " - 7s - loss: 0.5119 - acc: 0.8004 - val_loss: 0.6963 - val_acc: 0.7354\n",
      "Epoch 10/100\n",
      " - 7s - loss: 0.4700 - acc: 0.8141 - val_loss: 0.7395 - val_acc: 0.7291\n",
      "Epoch 11/100\n",
      " - 7s - loss: 0.4458 - acc: 0.8242 - val_loss: 0.7473 - val_acc: 0.7189\n"
     ]
    },
    {
     "data": {
      "text/plain": [
       "<keras.callbacks.History at 0x7f1ff1f38710>"
      ]
     },
     "execution_count": 56,
     "metadata": {},
     "output_type": "execute_result"
    }
   ],
   "source": [
    "model5.fit(X_train,y_train,validation_split=0.25,epochs=100,callbacks=[early_stopping],verbose=2)"
   ]
  },
  {
   "cell_type": "code",
   "execution_count": 57,
   "metadata": {},
   "outputs": [
    {
     "name": "stdout",
     "output_type": "stream",
     "text": [
      "7000/7000 [==============================] - 7s 1ms/step\n",
      "[0.5025616502080645, 0.811571428503309]\n",
      "4000/4000 [==============================] - 4s 1ms/step\n",
      "[0.7307122507095337, 0.728]\n"
     ]
    }
   ],
   "source": [
    "print(model5.evaluate(X_train,y_train))\n",
    "print(model5.evaluate(X_test,y_test))"
   ]
  },
  {
   "cell_type": "markdown",
   "metadata": {},
   "source": [
    "### Image augmentation "
   ]
  },
  {
   "cell_type": "code",
   "execution_count": 58,
   "metadata": {},
   "outputs": [],
   "source": [
    "datagen = ImageDataGenerator(\n",
    "    rotation_range=15,\n",
    "    width_shift_range=(0.1),\n",
    "    height_shift_range=(0.1),\n",
    "    horizontal_flip=True\n",
    ")"
   ]
  },
  {
   "cell_type": "code",
   "execution_count": 60,
   "metadata": {},
   "outputs": [
    {
     "data": {
      "image/png": "[encoded data removed]",
      "text/plain": [
       "<Figure size 432x288 with 1 Axes>"
      ]
     },
     "metadata": {},
     "output_type": "display_data"
    }
   ],
   "source": [
    "plt.imshow(datagen.random_transform(X_train[2]))\n",
    "plt.show()"
   ]
  },
  {
   "cell_type": "code",
   "execution_count": 64,
   "metadata": {},
   "outputs": [
    {
     "name": "stdout",
     "output_type": "stream",
     "text": [
      "_________________________________________________________________\n",
      "Layer (type)                 Output Shape              Param #   \n",
      "=================================================================\n",
      "conv2d_12 (Conv2D)           (None, 32, 32, 32)        2432      \n",
      "_________________________________________________________________\n",
      "max_pooling2d_9 (MaxPooling2 (None, 16, 16, 32)        0         \n",
      "_________________________________________________________________\n",
      "conv2d_13 (Conv2D)           (None, 16, 16, 64)        18496     \n",
      "_________________________________________________________________\n",
      "max_pooling2d_10 (MaxPooling (None, 8, 8, 64)          0         \n",
      "_________________________________________________________________\n",
      "flatten_6 (Flatten)          (None, 4096)              0         \n",
      "_________________________________________________________________\n",
      "dense_11 (Dense)             (None, 200)               819400    \n",
      "_________________________________________________________________\n",
      "dropout_1 (Dropout)          (None, 200)               0         \n",
      "_________________________________________________________________\n",
      "dense_12 (Dense)             (None, 4)                 804       \n",
      "=================================================================\n",
      "Total params: 841,132\n",
      "Trainable params: 841,132\n",
      "Non-trainable params: 0\n",
      "_________________________________________________________________\n"
     ]
    }
   ],
   "source": [
    "model6 = Sequential()\n",
    "model6.add(Conv2D(32,(5,5),activation='relu',input_shape = (32,32,3),padding='same'))\n",
    "model6.add(MaxPooling2D())\n",
    "model6.add(Conv2D(64,(3,3),activation='relu',padding='same'))\n",
    "model6.add(MaxPooling2D())\n",
    "model6.add(Flatten())\n",
    "model6.add(Dense(200,activation='relu'))\n",
    "model6.add(Dropout(0.4))\n",
    "model6.add(Dense(4,activation='softmax'))\n",
    "model6.compile(loss='categorical_crossentropy',optimizer='Adam',metrics=['accuracy'])\n",
    "early_stopping = EarlyStopping(patience=3)\n",
    "model6.summary()"
   ]
  },
  {
   "cell_type": "markdown",
   "metadata": {},
   "source": [
    "### extract validation set from train set"
   ]
  },
  {
   "cell_type": "code",
   "execution_count": 61,
   "metadata": {},
   "outputs": [],
   "source": [
    "X_train_g, X_valid_g,y_train_g,y_valid_g = train_test_split(X_train,y_train,test_size=0.25)"
   ]
  },
  {
   "cell_type": "code",
   "execution_count": 62,
   "metadata": {},
   "outputs": [
    {
     "data": {
      "text/plain": [
       "((7000, 32, 32, 3), (1750, 32, 32, 3))"
      ]
     },
     "execution_count": 62,
     "metadata": {},
     "output_type": "execute_result"
    }
   ],
   "source": [
    "X_train.shape, X_valid_g.shape"
   ]
  },
  {
   "cell_type": "code",
   "execution_count": 67,
   "metadata": {
    "scrolled": true
   },
   "outputs": [
    {
     "name": "stdout",
     "output_type": "stream",
     "text": [
      "Epoch 1/100\n",
      " - 20s - loss: 0.8064 - acc: 0.6791 - val_loss: 0.7606 - val_acc: 0.6954\n",
      "Epoch 2/100\n",
      " - 20s - loss: 0.7741 - acc: 0.6877 - val_loss: 0.6719 - val_acc: 0.7326\n",
      "Epoch 3/100\n",
      " - 22s - loss: 0.7299 - acc: 0.7108 - val_loss: 0.6302 - val_acc: 0.7537\n",
      "Epoch 4/100\n",
      " - 24s - loss: 0.7007 - acc: 0.7249 - val_loss: 0.5710 - val_acc: 0.7829\n",
      "Epoch 5/100\n",
      " - 29s - loss: 0.6845 - acc: 0.7321 - val_loss: 0.6544 - val_acc: 0.7394\n",
      "Epoch 6/100\n",
      " - 23s - loss: 0.6628 - acc: 0.7416 - val_loss: 0.5643 - val_acc: 0.7771\n",
      "Epoch 7/100\n",
      " - 24s - loss: 0.6702 - acc: 0.7315 - val_loss: 0.5777 - val_acc: 0.7863\n",
      "Epoch 8/100\n",
      " - 27s - loss: 0.6286 - acc: 0.7519 - val_loss: 0.5810 - val_acc: 0.7754\n",
      "Epoch 9/100\n",
      " - 29s - loss: 0.6108 - acc: 0.7553 - val_loss: 0.5790 - val_acc: 0.7720\n"
     ]
    },
    {
     "data": {
      "text/plain": [
       "<keras.callbacks.History at 0x7f1ff7a77f98>"
      ]
     },
     "execution_count": 67,
     "metadata": {},
     "output_type": "execute_result"
    }
   ],
   "source": [
    "model6.fit_generator(datagen.flow(X_train_g,y_train_g,batch_size=32),\n",
    "                     validation_data=(X_valid_g,y_valid_g),\n",
    "                     callbacks=[early_stopping],\n",
    "                     epochs=100,\n",
    "                     steps_per_epoch=X_train_g.shape[0]//32,\n",
    "                     verbose=2\n",
    "                    )"
   ]
  },
  {
   "cell_type": "code",
   "execution_count": 68,
   "metadata": {},
   "outputs": [
    {
     "name": "stdout",
     "output_type": "stream",
     "text": [
      "7000/7000 [==============================] - 13s 2ms/step\n",
      "[0.5228874061107636, 0.7957142856461661]\n",
      "4000/4000 [==============================] - 8s 2ms/step\n",
      "[0.5839243624210357, 0.76525]\n"
     ]
    }
   ],
   "source": [
    "print(model6.evaluate(X_train,y_train))\n",
    "print(model6.evaluate(X_test,y_test))"
   ]
  },
  {
   "cell_type": "code",
   "execution_count": 129,
   "metadata": {},
   "outputs": [],
   "source": [
    "y_pred_prob = model6.predict(X_test)"
   ]
  },
  {
   "cell_type": "code",
   "execution_count": 131,
   "metadata": {},
   "outputs": [],
   "source": [
    "y_pred = np.zeros(shape=y_pred_prob.shape)"
   ]
  },
  {
   "cell_type": "code",
   "execution_count": null,
   "metadata": {},
   "outputs": [],
   "source": []
  },
  {
   "cell_type": "code",
   "execution_count": 134,
   "metadata": {},
   "outputs": [
    {
     "ename": "SyntaxError",
     "evalue": "invalid syntax (<ipython-input-134-ebac7c5d4d61>, line 1)",
     "output_type": "error",
     "traceback": [
      "\u001b[0;36m  File \u001b[0;32m\"<ipython-input-134-ebac7c5d4d61>\"\u001b[0;36m, line \u001b[0;32m1\u001b[0m\n\u001b[0;31m    [i[np.argmax(probs)] = 1 for i,probs in zip(y_pred,y_pred_prob)]\u001b[0m\n\u001b[0m                         ^\u001b[0m\n\u001b[0;31mSyntaxError\u001b[0m\u001b[0;31m:\u001b[0m invalid syntax\n"
     ]
    }
   ],
   "source": [
    "[i[np.argmax(probs)] = 1 for i,probs in zip(y_pred,y_pred_prob)]"
   ]
  },
  {
   "cell_type": "code",
   "execution_count": 130,
   "metadata": {},
   "outputs": [
    {
     "data": {
      "text/plain": [
       "3"
      ]
     },
     "execution_count": 130,
     "metadata": {},
     "output_type": "execute_result"
    }
   ],
   "source": [
    "np.argmax(y_pred_prob[0])"
   ]
  },
  {
   "cell_type": "code",
   "execution_count": 116,
   "metadata": {},
   "outputs": [
    {
     "data": {
      "image/png": "[encoded data removed]",
      "text/plain": [
       "<Figure size 576x288 with 2 Axes>"
      ]
     },
     "metadata": {},
     "output_type": "display_data"
    },
    {
     "data": {
      "image/png": "[encoded data removed]",
      "text/plain": [
       "<Figure size 576x288 with 2 Axes>"
      ]
     },
     "metadata": {},
     "output_type": "display_data"
    },
    {
     "data": {
      "image/png": "[encoded data removed]",
      "text/plain": [
       "<Figure size 576x288 with 2 Axes>"
      ]
     },
     "metadata": {},
     "output_type": "display_data"
    },
    {
     "data": {
      "image/png": "[encoded data removed]",
      "text/plain": [
       "<Figure size 576x288 with 2 Axes>"
      ]
     },
     "metadata": {},
     "output_type": "display_data"
    },
    {
     "data": {
      "image/png": "[encoded data removed]",
      "text/plain": [
       "<Figure size 576x288 with 2 Axes>"
      ]
     },
     "metadata": {},
     "output_type": "display_data"
    },
    {
     "data": {
      "image/png": "[encoded data removed]",
      "text/plain": [
       "<Figure size 576x288 with 2 Axes>"
      ]
     },
     "metadata": {},
     "output_type": "display_data"
    }
   ],
   "source": [
    "min_sample = 210\n",
    "max_sample = 216\n",
    "n_samples = max_sample - min_sample\n",
    "\n",
    "predictions = model6.predict(X_test[min_sample:max_sample])\n",
    "y_range = np.arange(0,4,step=1)\n",
    "y_label = ['plane','car','bird','cat']\n",
    "\n",
    "for i,img in enumerate(range(min_sample,max_sample)):\n",
    "    plt.figure(figsize=(8,4))\n",
    "    plt.subplot(1,2,1)\n",
    "    plt.title('img_'+ str(img))\n",
    "    plt.imshow(X_test[img])\n",
    "    plt.subplot(1,2,2)\n",
    "    plt.barh(y = y_label,width=predictions[i])\n",
    "    plt.show()"
   ]
  },
  {
   "cell_type": "code",
   "execution_count": null,
   "metadata": {},
   "outputs": [],
   "source": []
  }
 ],
 "metadata": {
  "kernelspec": {
   "display_name": "Python 3",
   "language": "python",
   "name": "python3"
  },
  "language_info": {
   "codemirror_mode": {
    "name": "ipython",
    "version": 3
   },
   "file_extension": ".py",
   "mimetype": "text/x-python",
   "name": "python",
   "nbconvert_exporter": "python",
   "pygments_lexer": "ipython3",
   "version": "3.6.6"
  }
 },
 "nbformat": 4,
 "nbformat_minor": 2
}
