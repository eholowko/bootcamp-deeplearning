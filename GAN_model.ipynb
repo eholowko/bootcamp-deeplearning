{
 "cells": [
  {
   "cell_type": "markdown",
   "metadata": {
    "colab_type": "text",
    "id": "r6il2sqqN0Iy"
   },
   "source": [
    "# Generative Adversarial Networks "
   ]
  },
  {
   "cell_type": "markdown",
   "metadata": {
    "colab_type": "text",
    "id": "E9mpLmOdN0I0"
   },
   "source": [
    "\n",
    "<img src=\"https://skymind.ai/images/wiki/GANs.png\" width=\"550\">\n",
    "https://skymind.ai/images/wiki/GANs.png"
   ]
  },
  {
   "cell_type": "markdown",
   "metadata": {
    "colab_type": "text",
    "id": "P7EzX8U8N0I6"
   },
   "source": [
    "Credits: https://github.com/Zackory/Keras-MNIST-GAN"
   ]
  },
  {
   "cell_type": "code",
   "execution_count": 1,
   "metadata": {
    "colab": {
     "base_uri": "https://localhost:8080/",
     "height": 34
    },
    "colab_type": "code",
    "id": "KnXcNlKTN0I8",
    "outputId": "d5ecbdc6-0f45-4e1c-b19a-ec3efc822d90"
   },
   "outputs": [
    {
     "name": "stderr",
     "output_type": "stream",
     "text": [
      "Using TensorFlow backend.\n"
     ]
    }
   ],
   "source": [
    "import numpy as np\n",
    "import matplotlib.pyplot as plt\n",
    "\n",
    "from keras.layers import Input\n",
    "from keras.models import Model, Sequential\n",
    "from keras.layers.core import Reshape, Dense, Dropout, Flatten\n",
    "from keras.layers.advanced_activations import LeakyReLU\n",
    "from keras.layers.convolutional import Conv2D, UpSampling2D\n",
    "from keras.datasets import mnist\n",
    "from keras.optimizers import Adam\n",
    "from keras import backend as K\n",
    "from keras import initializers"
   ]
  },
  {
   "cell_type": "code",
   "execution_count": 2,
   "metadata": {
    "colab": {
     "base_uri": "https://localhost:8080/",
     "height": 51
    },
    "colab_type": "code",
    "id": "XmMJZGLEN0JC",
    "outputId": "0503601e-8b83-4abf-83c9-b64cd3946f9e"
   },
   "outputs": [
    {
     "name": "stdout",
     "output_type": "stream",
     "text": [
      "Downloading data from https://s3.amazonaws.com/img-datasets/mnist.npz\n",
      "11493376/11490434 [==============================] - 3s 0us/step\n"
     ]
    }
   ],
   "source": [
    "from keras.datasets import mnist\n",
    "(X_train_mnist, Y_train_mnist), (X_test_mnist, Y_test_mnist) = mnist.load_data()\n"
   ]
  },
  {
   "cell_type": "markdown",
   "metadata": {
    "colab_type": "text",
    "id": "jVn6xmjNN0JL"
   },
   "source": [
    "### Building model "
   ]
  },
  {
   "cell_type": "markdown",
   "metadata": {
    "colab_type": "text",
    "id": "XLZRM7FEN0JM"
   },
   "source": [
    "### Discriminator\n",
    "\n",
    "input- 28x28 image, label- true or false image\n"
   ]
  },
  {
   "cell_type": "code",
   "execution_count": 0,
   "metadata": {
    "colab": {},
    "colab_type": "code",
    "id": "dMcyx-2DPHBv"
   },
   "outputs": [],
   "source": [
    "discriminator = Sequential()\n",
    "discriminator.add(Conv2D(64,kernel_size=(5,5),activation='relu',strides=(2,2),padding='same',input_shape=(28,28,1)))\n",
    "discriminator.add(Conv2D(128,kernel_size=(5,5),activation='relu',strides=(2,2),padding='same',input_shape=(28,28,1)))\n",
    "discriminator.add(Flatten())\n",
    "discriminator.add(Dropout(0.3))\n",
    "discriminator.add(Dense(1,activation='sigmoid'))\n",
    "\n",
    "adam = Adam(lr=0.002,beta_1=0.5)\n",
    "discriminator.compile(loss='binary_crossentropy',optimizer=adam)"
   ]
  },
  {
   "cell_type": "markdown",
   "metadata": {
    "colab_type": "text",
    "id": "m28L2BA9N0JR"
   },
   "source": [
    "### Generator\n",
    "input - random noise, generete - 28x28 image\n"
   ]
  },
  {
   "cell_type": "code",
   "execution_count": 0,
   "metadata": {
    "colab": {},
    "colab_type": "code",
    "id": "fCSw_C5YQBxm"
   },
   "outputs": [],
   "source": [
    "generator = Sequential()\n",
    "random_dim=10\n",
    "generator.add(Dense(128*7*7,activation='relu',input_dim=random_dim))\n",
    "generator.add(Reshape((7,7,128)))\n",
    "generator.add(UpSampling2D(size=(2,2)))\n",
    "generator.add(Conv2D(64,activation='relu',kernel_size=(5,5),padding='same'))\n",
    "generator.add(UpSampling2D(size=(2,2)))\n",
    "generator.add(Conv2D(1,activation='tanh',kernel_size=(5,5),padding='same'))"
   ]
  },
  {
   "cell_type": "code",
   "execution_count": 9,
   "metadata": {
    "colab": {
     "base_uri": "https://localhost:8080/",
     "height": 340
    },
    "colab_type": "code",
    "id": "Mpc5GNAcQAtL",
    "outputId": "f4cb5a68-43e5-4192-99bb-6f88d8a9b4d5"
   },
   "outputs": [
    {
     "name": "stdout",
     "output_type": "stream",
     "text": [
      "_________________________________________________________________\n",
      "Layer (type)                 Output Shape              Param #   \n",
      "=================================================================\n",
      "dense_4 (Dense)              (None, 6272)              68992     \n",
      "_________________________________________________________________\n",
      "reshape_2 (Reshape)          (None, 7, 7, 128)         0         \n",
      "_________________________________________________________________\n",
      "up_sampling2d_3 (UpSampling2 (None, 14, 14, 128)       0         \n",
      "_________________________________________________________________\n",
      "conv2d_7 (Conv2D)            (None, 14, 14, 64)        204864    \n",
      "_________________________________________________________________\n",
      "up_sampling2d_4 (UpSampling2 (None, 28, 28, 64)        0         \n",
      "_________________________________________________________________\n",
      "conv2d_8 (Conv2D)            (None, 28, 28, 1)         1601      \n",
      "=================================================================\n",
      "Total params: 275,457\n",
      "Trainable params: 275,457\n",
      "Non-trainable params: 0\n",
      "_________________________________________________________________\n"
     ]
    }
   ],
   "source": [
    "generator.summary()"
   ]
  },
  {
   "cell_type": "code",
   "execution_count": 0,
   "metadata": {
    "colab": {},
    "colab_type": "code",
    "id": "XQDMP9uTP_uB"
   },
   "outputs": [],
   "source": [
    "discriminator.summary()"
   ]
  },
  {
   "cell_type": "markdown",
   "metadata": {
    "colab_type": "text",
    "id": "6sXWWRCgN0Jb"
   },
   "source": [
    "### GAN \n",
    "\n",
    "Czyli połączona sieć - najpierw generator, potem dyskryminator."
   ]
  },
  {
   "cell_type": "code",
   "execution_count": 0,
   "metadata": {
    "colab": {},
    "colab_type": "code",
    "id": "v2Nn7_pDN0JT"
   },
   "outputs": [],
   "source": [
    "discriminator.trainable = False\n",
    "gan = Sequential()\n",
    "gan.add(generator)\n",
    "gan.add(discriminator)\n",
    "gan.compile(loss='binary_crossentropy',optimizer='adam')"
   ]
  },
  {
   "cell_type": "code",
   "execution_count": 0,
   "metadata": {
    "colab": {},
    "colab_type": "code",
    "id": "HMkWowhKN0Jd"
   },
   "outputs": [],
   "source": [
    "X_train_mnist_scaled = ( X_train_mnist-127.5)/127.5\n",
    "X_test_mnist_scaled = (X_test_mnist-127.5)/127.5\n",
    "\n",
    "X_train_mnist_reshaped = X_train_mnist_scaled[:,:,:,np.newaxis]\n",
    "X_test_mnist_reshaped = X_test_mnist_scaled[:,:,:,np.newaxis]"
   ]
  },
  {
   "cell_type": "markdown",
   "metadata": {
    "colab_type": "text",
    "id": "a8ol0qWkN0Jk"
   },
   "source": [
    "### Learning process:\n",
    "For each epoch, for each batch:\n",
    "1. From vectors with random noise generate new images\n",
    "2. Take the same number of real images\n",
    "3. Merge both groups and label them with 1 for real images, 0 for fake images\n",
    "4. For this batch execute 'train_on_batch' on discriminator\n",
    "5. Generate new vectors with random noise. Label images, but this time, label all them with 1 (all are tru images). Set discriminator frozen.\n",
    "Now we reward generator for making good images.\n",
    "\n"
   ]
  },
  {
   "cell_type": "code",
   "execution_count": 15,
   "metadata": {
    "colab": {
     "base_uri": "https://localhost:8080/",
     "height": 357
    },
    "colab_type": "code",
    "id": "O227Uo-_N0Jm",
    "outputId": "249ef4bb-b298-40c3-e5a7-d10640f11a9e"
   },
   "outputs": [
    {
     "name": "stdout",
     "output_type": "stream",
     "text": [
      "--------------- Epoch 1 ---------------\n",
      "Discriminator loss: 0.33509132, generator loss: 2.8424058\n",
      "--------------- Epoch 2 ---------------\n",
      "Discriminator loss: 0.27015328, generator loss: 3.1509612\n",
      "--------------- Epoch 3 ---------------\n",
      "Discriminator loss: 0.24328569, generator loss: 3.9272952\n",
      "--------------- Epoch 4 ---------------\n",
      "Discriminator loss: 0.34845144, generator loss: 3.5245867\n",
      "--------------- Epoch 5 ---------------\n",
      "Discriminator loss: 0.14558347, generator loss: 3.4384036\n",
      "--------------- Epoch 6 ---------------\n",
      "Discriminator loss: 0.10567179, generator loss: 3.634441\n",
      "--------------- Epoch 7 ---------------\n",
      "Discriminator loss: 0.17185748, generator loss: 3.2710037\n",
      "--------------- Epoch 8 ---------------\n",
      "Discriminator loss: 0.17929788, generator loss: 4.339534\n",
      "--------------- Epoch 9 ---------------\n",
      "Discriminator loss: 0.19849913, generator loss: 3.0145283\n",
      "--------------- Epoch 10 ---------------\n",
      "Discriminator loss: 0.1339545, generator loss: 3.4937198\n"
     ]
    }
   ],
   "source": [
    "EPOCHS = 10\n",
    "BATCH_SIZE=64\n",
    "BATCHES = X_train_mnist_reshaped.shape[0] // BATCH_SIZE\n",
    "\n",
    "\n",
    "for e in range(1, EPOCHS+1):\n",
    "    print('-'*15, 'Epoch %d' % e, '-'*15)\n",
    "    \n",
    "    for _ in range(BATCHES):\n",
    "        # Generate fake MNIST images\n",
    "        noise = np.random.normal(0, 1, size=[BATCH_SIZE, random_dim])  \n",
    "        generatedImages = generator.predict(noise)\n",
    "        \n",
    "        # Get a random set of input noise and images\n",
    "        imageBatch = X_train_mnist_reshaped[np.random.randint(0, X_train_mnist_reshaped.shape[0], size=BATCH_SIZE)]\n",
    "        X = np.concatenate([imageBatch, generatedImages])\n",
    "\n",
    "        # Correct labels for generated and real data\n",
    "        yDis = np.zeros(2*BATCH_SIZE)\n",
    "        \n",
    "        yDis[:BATCH_SIZE] = 1\n",
    "\n",
    "        # Train discriminator\n",
    "        discriminator.trainable = True\n",
    "        dloss = discriminator.train_on_batch(X, yDis)\n",
    "\n",
    "        # Train generator\n",
    "        noise = np.random.normal(0, 1, size=[BATCH_SIZE, random_dim])\n",
    "        # Set all flags to true\n",
    "        yGen = np.ones(BATCH_SIZE)\n",
    "        # discriminator not trained\n",
    "        discriminator.trainable = False\n",
    "        \n",
    "        gloss = gan.train_on_batch(noise, yGen)\n",
    "    print(\"Discriminator loss: %s, generator loss: %s\" % (dloss, gloss))"
   ]
  },
  {
   "cell_type": "code",
   "execution_count": 21,
   "metadata": {
    "colab": {
     "base_uri": "https://localhost:8080/",
     "height": 90
    },
    "colab_type": "code",
    "id": "wIuAVaebN0Js",
    "outputId": "dd97d290-44bb-4428-f978-12741179fd33"
   },
   "outputs": [
    {
     "data": {
      "image/png": "[encoded data removed]",
      "text/plain": [
       "<matplotlib.figure.Figure at 0x7fc0958836a0>"
      ]
     },
     "metadata": {
      "tags": []
     },
     "output_type": "display_data"
    }
   ],
   "source": [
    "examples=10\n",
    "dim=(10, 10)\n",
    "figsize=(10, 10)\n",
    "noise = np.random.normal(0, 1, size=[examples, random_dim])\n",
    "generatedImages = generator.predict(noise)\n",
    "\n",
    "plt.figure(figsize=figsize)\n",
    "for i in range(generatedImages.shape[0]):\n",
    "    plt.subplot(dim[0], dim[1], i+1)\n",
    "    plt.imshow(generatedImages[i, :,:,0], interpolation='nearest', cmap='gray_r')\n",
    "    plt.axis('off')\n",
    "plt.tight_layout()\n",
    "plt.show()"
   ]
  },
  {
   "cell_type": "code",
   "execution_count": 0,
   "metadata": {
    "colab": {},
    "colab_type": "code",
    "id": "gTyGpOuRN0Jz"
   },
   "outputs": [],
   "source": []
  },
  {
   "cell_type": "code",
   "execution_count": 0,
   "metadata": {
    "colab": {},
    "colab_type": "code",
    "id": "eKRtw-PvN0J9"
   },
   "outputs": [],
   "source": []
  }
 ],
 "metadata": {
  "accelerator": "GPU",
  "colab": {
   "collapsed_sections": [],
   "name": "GAN.ipynb",
   "provenance": [],
   "version": "0.3.2"
  },
  "kernelspec": {
   "display_name": "Python 3",
   "language": "python",
   "name": "python3"
  },
  "language_info": {
   "codemirror_mode": {
    "name": "ipython",
    "version": 3
   },
   "file_extension": ".py",
   "mimetype": "text/x-python",
   "name": "python",
   "nbconvert_exporter": "python",
   "pygments_lexer": "ipython3",
   "version": "3.6.6"
  }
 },
 "nbformat": 4,
 "nbformat_minor": 1
}
