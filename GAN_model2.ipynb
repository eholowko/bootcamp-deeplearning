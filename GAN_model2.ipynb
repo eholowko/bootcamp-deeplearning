{
 "cells": [
  {
   "cell_type": "code",
   "execution_count": 2,
   "metadata": {
    "colab": {
     "base_uri": "https://localhost:8080/",
     "height": 34
    },
    "colab_type": "code",
    "id": "djgDtUHjNOCr",
    "outputId": "40ca2e51-c4e4-4876-9d51-3920dacf8925"
   },
   "outputs": [
    {
     "name": "stderr",
     "output_type": "stream",
     "text": [
      "Using TensorFlow backend.\n"
     ]
    }
   ],
   "source": [
    "import numpy as np\n",
    "import matplotlib.pyplot as plt\n",
    "from keras.models import Sequential\n",
    "from keras.layers import Dense,Reshape,Flatten,Dropout\n",
    "from keras.layers.advanced_activations import LeakyReLU\n",
    "from keras.layers.convolutional import Conv2D,UpSampling2D\n",
    "from keras.layers import BatchNormalization\n",
    "from keras.optimizers import Adam"
   ]
  },
  {
   "cell_type": "code",
   "execution_count": 3,
   "metadata": {
    "colab": {
     "base_uri": "https://localhost:8080/",
     "height": 51
    },
    "colab_type": "code",
    "id": "Oq2YNaQbNjuf",
    "outputId": "f86d0de1-5fd7-42cb-caa0-d4648bbad008"
   },
   "outputs": [
    {
     "name": "stdout",
     "output_type": "stream",
     "text": [
      "Downloading data from https://s3.amazonaws.com/img-datasets/mnist.npz\n",
      "11493376/11490434 [==============================] - 1s 0us/step\n"
     ]
    }
   ],
   "source": [
    "from keras.datasets import mnist\n",
    "(X_train_mnist, Y_train_mnist), (X_test_mnist, Y_test_mnist) = mnist.load_data()"
   ]
  },
  {
   "cell_type": "code",
   "execution_count": 0,
   "metadata": {
    "colab": {},
    "colab_type": "code",
    "id": "iQGgrpYrP-xe"
   },
   "outputs": [],
   "source": [
    "img_shape = X_train_mnist[0].shape"
   ]
  },
  {
   "cell_type": "code",
   "execution_count": 5,
   "metadata": {
    "colab": {
     "base_uri": "https://localhost:8080/",
     "height": 34
    },
    "colab_type": "code",
    "id": "c66fTt7vyevn",
    "outputId": "b7456675-cad2-49ab-9557-7502e6ac27fb"
   },
   "outputs": [
    {
     "data": {
      "text/plain": [
       "(28, 28)"
      ]
     },
     "execution_count": 5,
     "metadata": {
      "tags": []
     },
     "output_type": "execute_result"
    }
   ],
   "source": [
    "img_shape"
   ]
  },
  {
   "cell_type": "markdown",
   "metadata": {
    "colab_type": "text",
    "id": "ZxOd68-FN0Sw"
   },
   "source": [
    "## Generator"
   ]
  },
  {
   "cell_type": "code",
   "execution_count": 0,
   "metadata": {
    "colab": {},
    "colab_type": "code",
    "id": "yq5QZDf7Nt3l"
   },
   "outputs": [],
   "source": [
    "noise_size = 100"
   ]
  },
  {
   "cell_type": "code",
   "execution_count": 7,
   "metadata": {
    "colab": {
     "base_uri": "https://localhost:8080/",
     "height": 578
    },
    "colab_type": "code",
    "id": "cFuwkq9KN9mT",
    "outputId": "9c8c27ee-08f4-4999-abe8-5fae97a5fbe4"
   },
   "outputs": [
    {
     "name": "stdout",
     "output_type": "stream",
     "text": [
      "_________________________________________________________________\n",
      "Layer (type)                 Output Shape              Param #   \n",
      "=================================================================\n",
      "dense_1 (Dense)              (None, 256)               25856     \n",
      "_________________________________________________________________\n",
      "leaky_re_lu_1 (LeakyReLU)    (None, 256)               0         \n",
      "_________________________________________________________________\n",
      "batch_normalization_1 (Batch (None, 256)               1024      \n",
      "_________________________________________________________________\n",
      "dense_2 (Dense)              (None, 512)               131584    \n",
      "_________________________________________________________________\n",
      "leaky_re_lu_2 (LeakyReLU)    (None, 512)               0         \n",
      "_________________________________________________________________\n",
      "batch_normalization_2 (Batch (None, 512)               2048      \n",
      "_________________________________________________________________\n",
      "dense_3 (Dense)              (None, 1024)              525312    \n",
      "_________________________________________________________________\n",
      "leaky_re_lu_3 (LeakyReLU)    (None, 1024)              0         \n",
      "_________________________________________________________________\n",
      "batch_normalization_3 (Batch (None, 1024)              4096      \n",
      "_________________________________________________________________\n",
      "dense_4 (Dense)              (None, 784)               803600    \n",
      "_________________________________________________________________\n",
      "reshape_1 (Reshape)          (None, 28, 28, 1)         0         \n",
      "_________________________________________________________________\n",
      "conv2d_1 (Conv2D)            (None, 28, 28, 32)        320       \n",
      "_________________________________________________________________\n",
      "conv2d_2 (Conv2D)            (None, 28, 28, 1)         289       \n",
      "=================================================================\n",
      "Total params: 1,494,129\n",
      "Trainable params: 1,490,545\n",
      "Non-trainable params: 3,584\n",
      "_________________________________________________________________\n"
     ]
    }
   ],
   "source": [
    "generator = Sequential()\n",
    "generator.add(Dense(256,input_dim=noise_size))\n",
    "generator.add(LeakyReLU(alpha=0.2))\n",
    "generator.add(BatchNormalization(momentum=0.8))\n",
    "generator.add(Dense(512))\n",
    "generator.add(LeakyReLU(alpha=0.2))\n",
    "generator.add(BatchNormalization(momentum=0.8))\n",
    "generator.add(Dense(1024))\n",
    "generator.add(LeakyReLU(alpha=0.2))\n",
    "generator.add(BatchNormalization(momentum=0.8))\n",
    "generator.add(Dense(np.prod(img_shape),activation='relu'))\n",
    "generator.add(Reshape((28,28,1)))\n",
    "generator.add(Conv2D(32,(3,3),activation='relu',padding='same'))\n",
    "generator.add(Conv2D(1,(3,3),activation='tanh',padding='same'))\n",
    "generator.summary()"
   ]
  },
  {
   "cell_type": "markdown",
   "metadata": {
    "colab_type": "text",
    "id": "nwayOwwpQvH8"
   },
   "source": [
    "## Discriminator"
   ]
  },
  {
   "cell_type": "code",
   "execution_count": 8,
   "metadata": {
    "colab": {
     "base_uri": "https://localhost:8080/",
     "height": 340
    },
    "colab_type": "code",
    "id": "TegO8abSQy_Y",
    "outputId": "336b624b-311b-49fc-a441-55890a962371"
   },
   "outputs": [
    {
     "name": "stdout",
     "output_type": "stream",
     "text": [
      "_________________________________________________________________\n",
      "Layer (type)                 Output Shape              Param #   \n",
      "=================================================================\n",
      "flatten_1 (Flatten)          (None, 784)               0         \n",
      "_________________________________________________________________\n",
      "dense_5 (Dense)              (None, 512)               401920    \n",
      "_________________________________________________________________\n",
      "leaky_re_lu_4 (LeakyReLU)    (None, 512)               0         \n",
      "_________________________________________________________________\n",
      "dense_6 (Dense)              (None, 256)               131328    \n",
      "_________________________________________________________________\n",
      "leaky_re_lu_5 (LeakyReLU)    (None, 256)               0         \n",
      "_________________________________________________________________\n",
      "dense_7 (Dense)              (None, 1)                 257       \n",
      "=================================================================\n",
      "Total params: 533,505\n",
      "Trainable params: 533,505\n",
      "Non-trainable params: 0\n",
      "_________________________________________________________________\n"
     ]
    }
   ],
   "source": [
    "discriminator = Sequential()\n",
    "discriminator.add(Flatten(input_shape=(28,28,1)))\n",
    "discriminator.add(Dense(512))\n",
    "discriminator.add(LeakyReLU(alpha=0.2))\n",
    "discriminator.add(Dense(256))\n",
    "discriminator.add(LeakyReLU(alpha=0.2))\n",
    "discriminator.add(Dense(1,activation='sigmoid'))\n",
    "adam = Adam(0.0002, 0.5)\n",
    "discriminator.compile(loss='binary_crossentropy',optimizer=adam,metrics=['accuracy'])\n",
    "discriminator.summary()"
   ]
  },
  {
   "cell_type": "markdown",
   "metadata": {
    "colab_type": "text",
    "id": "nov0aGuqSG08"
   },
   "source": [
    "## GAN"
   ]
  },
  {
   "cell_type": "code",
   "execution_count": 0,
   "metadata": {
    "colab": {},
    "colab_type": "code",
    "id": "b7QgYdECSKwf"
   },
   "outputs": [],
   "source": [
    "discriminator.trainable = False\n",
    "gan = Sequential()\n",
    "gan.add(generator)\n",
    "gan.add(discriminator)\n",
    "gan.compile(loss='binary_crossentropy',optimizer=adam)"
   ]
  },
  {
   "cell_type": "markdown",
   "metadata": {
    "colab_type": "text",
    "id": "Vfy2SsbxSrzz"
   },
   "source": [
    "## Data normalization"
   ]
  },
  {
   "cell_type": "code",
   "execution_count": 0,
   "metadata": {
    "colab": {},
    "colab_type": "code",
    "id": "08mlH0kWSpXx"
   },
   "outputs": [],
   "source": [
    "X_train_mnist_scaled = ( X_train_mnist-127.5)/127.5\n",
    "X_test_mnist_scaled = (X_test_mnist-127.5)/127.5"
   ]
  },
  {
   "cell_type": "code",
   "execution_count": 11,
   "metadata": {
    "colab": {
     "base_uri": "https://localhost:8080/",
     "height": 34
    },
    "colab_type": "code",
    "id": "gQTy_pyrS7vk",
    "outputId": "637467a0-c0cf-4d36-a40c-25e14c553674"
   },
   "outputs": [
    {
     "data": {
      "text/plain": [
       "(10000, 28, 28)"
      ]
     },
     "execution_count": 11,
     "metadata": {
      "tags": []
     },
     "output_type": "execute_result"
    }
   ],
   "source": [
    "X_test_mnist_scaled.shape"
   ]
  },
  {
   "cell_type": "code",
   "execution_count": 0,
   "metadata": {
    "colab": {},
    "colab_type": "code",
    "id": "eLVGOJSpSqlv"
   },
   "outputs": [],
   "source": [
    "X_train_mnist_reshaped = X_train_mnist_scaled[:,:,:,np.newaxis]\n",
    "X_test_mnist_reshaped = X_test_mnist_scaled[:,:,:,np.newaxis]"
   ]
  },
  {
   "cell_type": "code",
   "execution_count": 13,
   "metadata": {
    "colab": {
     "base_uri": "https://localhost:8080/",
     "height": 34
    },
    "colab_type": "code",
    "id": "55ee0dkrS_3a",
    "outputId": "d61ffb92-a4db-4649-ea82-aed4480b0158"
   },
   "outputs": [
    {
     "data": {
      "text/plain": [
       "(60000, 28, 28, 1)"
      ]
     },
     "execution_count": 13,
     "metadata": {
      "tags": []
     },
     "output_type": "execute_result"
    }
   ],
   "source": [
    "X_train_mnist_reshaped.shape"
   ]
  },
  {
   "cell_type": "code",
   "execution_count": 0,
   "metadata": {
    "colab": {},
    "colab_type": "code",
    "id": "anS8L9DiTBtn"
   },
   "outputs": [],
   "source": [
    "Epochs = 10\n",
    "batch_size = 32\n",
    "batches = X_train_mnist_reshaped.shape[0]//batch_size\n",
    "noise_size = 100"
   ]
  },
  {
   "cell_type": "code",
   "execution_count": 15,
   "metadata": {
    "colab": {
     "base_uri": "https://localhost:8080/",
     "height": 357
    },
    "colab_type": "code",
    "id": "fOT9N52AZdRX",
    "outputId": "1a054aca-e7b1-4063-ae44-27ba1cde3d1b"
   },
   "outputs": [
    {
     "name": "stdout",
     "output_type": "stream",
     "text": [
      "--------------- Epoch 1 ---------------\n",
      "Discriminator loss: [0.63272166, 0.640625], generator loss: 0.9057425\n",
      "--------------- Epoch 2 ---------------\n",
      "Discriminator loss: [0.6587454, 0.65625], generator loss: 1.1175314\n",
      "--------------- Epoch 3 ---------------\n",
      "Discriminator loss: [0.65789413, 0.609375], generator loss: 0.8479421\n",
      "--------------- Epoch 4 ---------------\n",
      "Discriminator loss: [0.6986358, 0.578125], generator loss: 0.65653646\n",
      "--------------- Epoch 5 ---------------\n",
      "Discriminator loss: [0.5856315, 0.6875], generator loss: 1.0477909\n",
      "--------------- Epoch 6 ---------------\n",
      "Discriminator loss: [0.5910634, 0.71875], generator loss: 1.0045357\n",
      "--------------- Epoch 7 ---------------\n",
      "Discriminator loss: [0.63360757, 0.640625], generator loss: 0.8722392\n",
      "--------------- Epoch 8 ---------------\n",
      "Discriminator loss: [0.6731504, 0.609375], generator loss: 0.804885\n",
      "--------------- Epoch 9 ---------------\n",
      "Discriminator loss: [0.669529, 0.59375], generator loss: 0.9150279\n",
      "--------------- Epoch 10 ---------------\n",
      "Discriminator loss: [0.62039495, 0.71875], generator loss: 0.90836585\n"
     ]
    }
   ],
   "source": [
    "for e in range(1,Epochs+1):\n",
    "  print('-'*15,'Epoch %d' %e,'-'*15)\n",
    "  for batch in range(batches):\n",
    "    # Generate fake MNIST images\n",
    "    noise = np.random.normal(0,1,size=[batch_size,noise_size])\n",
    "    gen_images = generator.predict(noise)\n",
    "    \n",
    "    # Get a random set of input noise and images\n",
    "    batch_idx = np.random.randint(0,X_train_mnist_reshaped.shape[0],batch_size)\n",
    "    batch_images = X_train_mnist_reshaped[batch_idx]\n",
    "    \n",
    "    images = np.concatenate([batch_images,gen_images])\n",
    "    \n",
    "    # Correct labels for generated and real data\n",
    "    yDis = np.zeros(2*batch_size)\n",
    "    yDis[:batch_size] = 1\n",
    "        \n",
    "    #Train discriminator\n",
    "    discriminator.trainable = True\n",
    "    dloss = discriminator.train_on_batch(images,yDis)\n",
    "    \n",
    "    #Train generator\n",
    "    discriminator.trainable = False\n",
    "    yGen = np.ones(batch_size)\n",
    "    noise = np.random.normal(0,1,size=[batch_size,noise_size])\n",
    "    gloss = gan.train_on_batch(noise,yGen)\n",
    "    \n",
    "  print(\"Discriminator loss: %s, generator loss: %s\" % (dloss, gloss))"
   ]
  },
  {
   "cell_type": "code",
   "execution_count": 39,
   "metadata": {
    "colab": {
     "base_uri": "https://localhost:8080/",
     "height": 90
    },
    "colab_type": "code",
    "id": "O33SwsmvZuqU",
    "outputId": "78d7ad35-01f4-4793-9fad-7c480d04f076"
   },
   "outputs": [
    {
     "data": {
      "image/png": "[encoded data removed]",
      "text/plain": [
       "<matplotlib.figure.Figure at 0x7fc9ff193780>"
      ]
     },
     "metadata": {
      "tags": []
     },
     "output_type": "display_data"
    }
   ],
   "source": [
    "examples=10\n",
    "dim=(10, 10)\n",
    "figsize=(10, 10)\n",
    "noise = np.random.normal(0, 1, size=[examples, noise_size])\n",
    "generatedImages = generator.predict(noise)\n",
    "\n",
    "plt.figure(figsize=figsize)\n",
    "for i in range(generatedImages.shape[0]):\n",
    "    plt.subplot(dim[0], dim[1], i+1)\n",
    "    plt.imshow(generatedImages[i, :,:,0], interpolation='nearest', cmap='gray_r')\n",
    "    plt.axis('off')\n",
    "plt.tight_layout()\n",
    "plt.show()"
   ]
  },
  {
   "cell_type": "code",
   "execution_count": 0,
   "metadata": {
    "colab": {},
    "colab_type": "code",
    "id": "LYkY7Lm1pJOa"
   },
   "outputs": [],
   "source": [
    "\n"
   ]
  }
 ],
 "metadata": {
  "accelerator": "GPU",
  "colab": {
   "collapsed_sections": [],
   "name": "GAN2.ipynb",
   "provenance": [],
   "version": "0.3.2"
  },
  "kernelspec": {
   "display_name": "Python 3",
   "language": "python",
   "name": "python3"
  },
  "language_info": {
   "codemirror_mode": {
    "name": "ipython",
    "version": 3
   },
   "file_extension": ".py",
   "mimetype": "text/x-python",
   "name": "python",
   "nbconvert_exporter": "python",
   "pygments_lexer": "ipython3",
   "version": "3.6.6"
  }
 },
 "nbformat": 4,
 "nbformat_minor": 1
}
