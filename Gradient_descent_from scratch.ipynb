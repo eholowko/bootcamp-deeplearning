{
 "cells": [
  {
   "cell_type": "markdown",
   "metadata": {},
   "source": [
    "# Metoda spadku gradientu (gradient descent)\n",
    "\n",
    "Mamy problem optymalizacyjny: szukamy parametru $\\theta$, dla którego funkcja $f(\\theta)$ przyjmuje wartość najmniejszą.\n",
    "\n",
    "Algorytm:\n",
    "\n",
    "Iteracyjnie poprawiamy wartość parametru według wzoru:\n",
    "\n",
    "$$\\theta_{new} = \\theta_{old} - learning\\_rate * \\frac{df}{d\\theta}$$\n",
    "\n",
    "Dlaczego tak?\n",
    "- gdy funkcja dla danego $\\theta$ jest rosnąca, to pochodna jest dodatnia, więc przesumamy się w lewo,\n",
    "- gdy funkcja dla danego $\\theta$ jest malejąca, to pochodna jest ujemna, więc przesumamy się w prawo.\n",
    "\n",
    "Intuicyjnie: sprawdzamy w którą stronę funkcja maleje i tam się przesuwamy - tym dalej im nachylenie większe.\n",
    "\n",
    "W przypadku wielowymiarowym - funkcja wielu zmiennych / $\\theta$ jest wektorem - zamiast pochodnej mamy gradient: $grad(f) = (\\frac{df}{d\\theta_1}, ..., \\frac{df}{d\\theta_k})$."
   ]
  },
  {
   "cell_type": "markdown",
   "metadata": {},
   "source": [
    "Algorytm:\n",
    "\n",
    "1. Ustal punkt startowy $\\theta$ oraz prędkość uczenia $lr$\n",
    "2. Przez ustaloną ilość kroków:\n",
    "    1. Oblicz pochodną optymalizowanej funkcji w punkcie $\\theta$ ($f'(\\theta)$)\n",
    "    2. Zmiennej $\\theta$ przypisz wartość $\\theta_{new} = \\theta - lr \\cdot f'(\\theta))$"
   ]
  },
  {
   "cell_type": "code",
   "execution_count": 7,
   "metadata": {
    "collapsed": true
   },
   "outputs": [],
   "source": [
    "from utils import visualise_gradient_descent"
   ]
  },
  {
   "cell_type": "code",
   "execution_count": 26,
   "metadata": {
    "collapsed": true
   },
   "outputs": [],
   "source": [
    "import numpy as np\n",
    "import matplotlib.pyplot as plt\n",
    "import time\n",
    "from IPython import display\n",
    "\n",
    "def f(x):\n",
    "    return(x**2 - 6*x + 12)\n",
    "    \n",
    "def grad_f(x):\n",
    "    return(2*x - 6)"
   ]
  },
  {
   "cell_type": "code",
   "execution_count": null,
   "metadata": {
    "collapsed": false,
    "scrolled": false
   },
   "outputs": [],
   "source": [
    "visualise_gradient_descent(f, grad_f, -2)"
   ]
  },
  {
   "cell_type": "markdown",
   "metadata": {},
   "source": [
    "#### Zadanie: Zaimplementuj algorytm gradient descent zgodnie z następującym szablonem:\n",
    "\n",
    "```python\n",
    "def calculate_minimum_gd(f,grad_f,theta, learning_rate):\n",
    "    \"\"\"\n",
    "    \n",
    "    Argumenty:\n",
    "    f: funkcja, którą należy zminimalizować. Funkcja przyjmuje dokładnie jeden argument.\n",
    "    grad_f: pochodna funkcji f. Przyjmuje dokładnie jeden argument.\n",
    "    theta: punkt początkowy. Liczba rzeczywista\n",
    "    learning_rate: stała określająca prędkość uczenia. Liczba rzeczywista\n",
    "    \n",
    "    Wartość zwracana:\n",
    "    minimum funkcji f\n",
    "    \"\"\"\n",
    "    \n",
    "    \n",
    "    \n",
    "```"
   ]
  },
  {
   "cell_type": "code",
   "execution_count": 28,
   "metadata": {
    "collapsed": false
   },
   "outputs": [],
   "source": [
    "def calculate_minimum_gd(f,grad_f,theta, learning_rate):\n",
    "    \n",
    "    for i in range(50):\n",
    "        theta_new = theta - learning_rate * grad_f(theta)\n",
    "        theta = theta_new\n",
    "\n",
    "    return theta_new"
   ]
  },
  {
   "cell_type": "code",
   "execution_count": 29,
   "metadata": {
    "collapsed": false
   },
   "outputs": [
    {
     "data": {
      "text/plain": [
       "2.999999999959586"
      ]
     },
     "execution_count": 29,
     "metadata": {},
     "output_type": "execute_result"
    }
   ],
   "source": [
    "calculate_minimum_gd(f,grad_f,-2,0.8)"
   ]
  },
  {
   "cell_type": "code",
   "execution_count": 30,
   "metadata": {
    "collapsed": true
   },
   "outputs": [],
   "source": [
    "def f(x):\n",
    "    return(0.5*(x**4 - x**3 - 6*x**2 + 30) )\n",
    "\n",
    "def grad_f(x):\n",
    "    return 2*x**3 - 1.5*x**2 - 6*x \n"
   ]
  },
  {
   "cell_type": "code",
   "execution_count": 31,
   "metadata": {
    "collapsed": false
   },
   "outputs": [
    {
     "data": {
      "text/plain": [
       "-1.227448111635759"
      ]
     },
     "execution_count": 31,
     "metadata": {},
     "output_type": "execute_result"
    }
   ],
   "source": [
    "calculate_minimum_gd(f,grad_f,-1,0.3)"
   ]
  },
  {
   "cell_type": "markdown",
   "metadata": {},
   "source": [
    "### Sztuczne sieci neuronowe"
   ]
  },
  {
   "cell_type": "markdown",
   "metadata": {},
   "source": [
    "Ciekawe zastosowania:\n",
    "* https://www.youtube.com/watch?v=JzgOfISLNjk\n",
    "* https://www.youtube.com/watch?v=qv6UVOQ0F44\n",
    "* https://medium.com/asap-report/facenet-with-memory-vs-synthetic-faces-8e87a009e139\n",
    "* https://www.youtube.com/watch?v=dqxqbvyOnMY"
   ]
  },
  {
   "cell_type": "markdown",
   "metadata": {},
   "source": [
    "<img src=\"Grafika/neuron.jpg\" width=\"500\">\n",
    "\n",
    "Źródło: https://cdn-images-1.medium.com/max/1600/0*l4ohhbrwQ5MGvmGc.jpg\n",
    "\n",
    "<br>\n",
    "<br>\n",
    "\n",
    "<img src=\"Grafika/perceptron.gif\" width=\"400\">\n",
    "Źródło: http://blog.zabarauskas.com/img/perceptron.gif\n",
    "\n",
    "$\\sigma(\\cdot)$ - funkcja aktywacji\n",
    "\n",
    "## $\\sigma(x) = \\frac{1}{1+\\exp{(x)}}$\n",
    "\n",
    "* złożone z grup (warstw) neuronów komunikujących się ze sobą  \n",
    "* najczęściej stosowane neurony są postaci jak na powyższej grafice - suma neuronów wejściowych przetransformowana jakąś funkcją  \n",
    "* w przeciwieństwie do prawdziwych neuronów, nie są aktywowane tylko zero-jedynkowo, ale mogą też przyjmować wartości rzeczywiste  \n",
    "\n",
    "W praktyce popularne są trzy funkcje aktywacji:\n",
    "\n",
    "- sigmoid\n",
    "- tangens hiperboliczny\n",
    "- RELU: $relu(x) = \\max{(x,0)}$."
   ]
  },
  {
   "cell_type": "markdown",
   "metadata": {},
   "source": [
    "Takie neurony łączymy w większe struktury (warstwy), a warstwy łączymy sekwencyjnie (najczęściej):\n",
    "\n",
    "<img src=\"Grafika/MLP.jpg\" width=\"700\">\n",
    "Źródło: https://www.intechopen.com/source/html/39071/media/f2.jpg"
   ]
  },
  {
   "cell_type": "markdown",
   "metadata": {},
   "source": [
    "\n",
    "**Uwaga:** \"Input layer\" pomimo tego, że ma w nazwie słowo \"warstwa\", to tak naprawdę to nie jest żadna warstwa sieci... To są po prostu dane wejściowe... Niestety przyjęło się literaturze nazywanie tego w ten sposób, co jest mylące :("
   ]
  },
  {
   "cell_type": "markdown",
   "metadata": {},
   "source": [
    "## Wizualizacja obszarów decyzyjnych w zależności od liczby neuronów\n",
    "\n",
    "### (sieć jednowarstwowa)\n",
    "\n",
    "<img src=\"Grafika/nn-from-scratch-hidden-layer-varying-655x1024.png\" width=\"700\">\n",
    "Źródło: http://d3kbpzbmcynnmx.cloudfront.net/wp-content/uploads/2015/09/nn-from-scratch-hidden-layer-varying-655x1024.png\n",
    "\n",
    "<br>\n",
    "\n",
    "### Fakt matematyczny: jednowarstwową siecią możemy otrzymać dowolny kształt. \n",
    "\n",
    "Co z tego wynika? To, że (teoretycznie) zawsze wystarczy sieć jednowarstwowa (odpowiednio duża). W praktyce rzeczywiście z reguły wystarcza jedna warstwa, ale mimo wszystko zawsze warto sprawdzić czy 2 (lub 3) nie zadziałają przypadkiem lepiej. Przy czym jeżeli dla dwóch warstw jest gorzej, to nie ma sensu sprawdzać dla trzech."
   ]
  },
  {
   "cell_type": "markdown",
   "metadata": {},
   "source": [
    "**Ogólny wzór na wartość aktywacji jednego neuronu:**\n",
    "\n",
    "\n",
    "$$ \\sigma\\left(\\sum\\limits_{i=1}^{n} x_i w_i + b \\right) $$"
   ]
  },
  {
   "cell_type": "markdown",
   "metadata": {},
   "source": [
    "### Gradient descent w sieciach neuronowych\n",
    "\n",
    "W dużym uproszczeniu, w uczeniu maszynowym chcemy zminimalizować funkcję straty budowanego modelu na naszym zbiorze treningowym. Funkcja ta zależy od parametrów modelu oraz od samego zbioru.  \n",
    "Możemy więc podejść do problemu za pomocą metody *gradient descent* - dla zadanych parametrów modelu policzmy funkcję straty oraz jej pochodną po odpowiednich parametrach. Wtedy będziemy w stanie zaktualizować nasze parametry tak, aby błąd na zbiorze treningowym zmalał.\n",
    "\n",
    "$$ Cost(\\theta) = \\frac{1}{n} \\sum\\limits_{i=1}^n f(x_i,y_i,\\theta)$$\n",
    "$$\\theta = \\theta - learning\\_rate * \\frac{dCost}{d\\theta}$$\n"
   ]
  },
  {
   "cell_type": "code",
   "execution_count": 32,
   "metadata": {
    "collapsed": true
   },
   "outputs": [],
   "source": [
    "import numpy as np"
   ]
  },
  {
   "cell_type": "markdown",
   "metadata": {},
   "source": [
    "Nasz model:\n",
    "\n",
    "$$ \\hat{y_i} = w_0 \\cdot x_{i, 0} + w_1 \\cdot x_{i, 0} + b $$  \n",
    "\n",
    "<br>\n",
    "\n",
    "Widzimy, że jest to prosta sieć neuronowa z jednym neuronem oraz liniową aktywacją na końcu."
   ]
  },
  {
   "cell_type": "markdown",
   "metadata": {},
   "source": [
    "Rozwiązujemy problem regresyjny - a więc naszą funkcją straty będzie MSE:\n",
    "\n",
    "$$ L(\\hat{y}, y) = \\frac{1}{n} \\sum\\limits_{i=1}^n (\\hat{y_i} - y_i)^2 $$"
   ]
  },
  {
   "cell_type": "markdown",
   "metadata": {},
   "source": [
    "Zgodnie z modelem możemy zapisać naszą funkcję straty w następujący sposób:\n",
    "\n",
    "$$ L(\\hat{y}, y) = \\frac{1}{n} \\sum\\limits_{i=1}^n (w_0 \\cdot x_{i, 0} + w_1 \\cdot x_{i, 0} + b - y_i)^2 $$"
   ]
  },
  {
   "cell_type": "markdown",
   "metadata": {},
   "source": [
    "Zgodnie z algorytmem *gradient descent*, musimy policzyć pochodne funkcji $L$ po $w_0$, $w_1$, $b$."
   ]
  },
  {
   "cell_type": "markdown",
   "metadata": {},
   "source": [
    "$$\n",
    "\\frac{\\partial L}{\\partial w_0} = \\frac{1}{n} \\sum\\limits_{i=1}^n 2 \\cdot (w_0 \\cdot x_{i, 0} + w_1 \\cdot x_{i, 0} + b - y_i) \\cdot x_{i, 0}  = \\frac{1}{n} \\sum\\limits_{i=1}^n 2 \\cdot (\\hat{y_i} - y_i) \\cdot x_{i, 0}$$"
   ]
  },
  {
   "cell_type": "markdown",
   "metadata": {},
   "source": [
    "$$\n",
    "\\frac{\\partial L}{\\partial w_1} = \\frac{1}{n} \\sum\\limits_{i=1}^n 2 \\cdot (w_0 \\cdot x_{i, 0} + w_1 \\cdot x_{i, 0} + b - y_i) \\cdot x_{i, 1}  = \\frac{1}{n} \\sum\\limits_{i=1}^n 2 \\cdot (\\hat{y_i} - y_i) \\cdot x_{i, 1}$$"
   ]
  },
  {
   "cell_type": "markdown",
   "metadata": {},
   "source": [
    "$$\n",
    "\\frac{\\partial L}{\\partial b} = \\frac{1}{n} \\sum\\limits_{i=1}^n 2 \\cdot (w_0 \\cdot x_{i, 0} + w_1 \\cdot x_{i, 0} + b - y_i) \\cdot 1  = \\frac{1}{n} \\sum\\limits_{i=1}^n 2 \\cdot (\\hat{y_i} - y_i)$$"
   ]
  },
  {
   "cell_type": "code",
   "execution_count": 33,
   "metadata": {
    "collapsed": true
   },
   "outputs": [],
   "source": [
    "# wygenerujmy dane\n",
    "X = np.random.normal(size=(1000, 2))\n",
    "w_true = np.array([2, -3])\n",
    "y = X[:, 0] * w_true[0] + X[:, 1] * w_true[1] + 1.45  + np.random.normal(scale=0.1, size=(1000, ))"
   ]
  },
  {
   "cell_type": "code",
   "execution_count": 35,
   "metadata": {
    "collapsed": false
   },
   "outputs": [],
   "source": [
    "import seaborn\n",
    "import matplotlib.pyplot as plt"
   ]
  },
  {
   "cell_type": "code",
   "execution_count": 36,
   "metadata": {
    "collapsed": false
   },
   "outputs": [
    {
     "name": "stdout",
     "output_type": "stream",
     "text": [
      "1000\n",
      "1000\n"
     ]
    }
   ],
   "source": [
    "w = np.array([0.,0.])\n",
    "print(len(np.dot(X,w) + 1))\n",
    "print(len(y))"
   ]
  },
  {
   "cell_type": "code",
   "execution_count": 38,
   "metadata": {
    "collapsed": false,
    "scrolled": false
   },
   "outputs": [
    {
     "name": "stdout",
     "output_type": "stream",
     "text": [
      "[ 1.99703295 -2.99736375] 1.4482188992927205\n"
     ]
    },
    {
     "data": {
      "image/png": "[encoded data removed]",
      "text/plain": [
       "<Figure size 576x396 with 1 Axes>"
      ]
     },
     "metadata": {},
     "output_type": "display_data"
    }
   ],
   "source": [
    "NUM_EPOCHS = 30\n",
    "\n",
    "w = np.array([0.,0.]) # w_0, w_1\n",
    "b = 0.\n",
    "learning_rate = 0.1\n",
    "n = len(y)\n",
    "\n",
    "w_history = []\n",
    "\n",
    "for i in range(NUM_EPOCHS):\n",
    "    \n",
    "    w_history.append(w.copy())\n",
    "    \n",
    "    # predykcja i liczenie błędu\n",
    "    \n",
    "    y_dash = np.dot(X,w) + b\n",
    "    \n",
    "    delta_y = y_dash - y\n",
    "    \n",
    "    MSE = np.mean(delta_y * delta_y)\n",
    "    \n",
    "    # uaktualnienie wag\n",
    "    \n",
    "    delta_w = np.array([\n",
    "                        np.mean(2 * delta_y * X[:,0]), \n",
    "                        np.mean(2 * delta_y * X[:,1])\n",
    "                       ])\n",
    "\n",
    "                    \n",
    "    w = w - learning_rate * delta_w\n",
    "    b = b - learning_rate * np.sum(2 * delta_y)/n\n",
    "    \n",
    "print(w, b)\n",
    "\n",
    "w_data = np.array(w_history)\n",
    "\n",
    "c = seaborn.color_palette(\"GnBu_d\", NUM_EPOCHS)\n",
    "plt.scatter(w_data[:, 0], w_data[:, 1], c=c)\n",
    "plt.show()"
   ]
  },
  {
   "cell_type": "markdown",
   "metadata": {},
   "source": [
    "** Zadanie ** . Sprawdź, czy da się znaleźć takie punkty początkowe, dla których algorytm nie zbiegnie (albo będzie to dla niego trudne)."
   ]
  },
  {
   "cell_type": "code",
   "execution_count": 39,
   "metadata": {
    "collapsed": true
   },
   "outputs": [],
   "source": [
    "from matplotlib.colors import ListedColormap\n",
    "def plot_decision_regions(X, y, classifier, resolution=0.02):\n",
    "    # setup marker generator and color map\n",
    "    markers = ('s', 'x', 'o', '^', 'v')\n",
    "    colors = ('red', 'blue', 'lightgreen', 'gray', 'cyan')\n",
    "    cmap = ListedColormap(colors[:len(np.unique(y))])\n",
    "\n",
    "    # plot the decision surface\n",
    "    x1_min, x1_max = X[:,  0].min() - 1, X[:, 0].max() + 1\n",
    "    x2_min, x2_max = X[:, 1].min() - 1, X[:, 1].max() + 1\n",
    "    xx1, xx2 = np.meshgrid(np.arange(x1_min, x1_max, resolution),\n",
    "    np.arange(x2_min, x2_max, resolution))\n",
    "    Z = classifier.predict(np.array([xx1.ravel(), xx2.ravel()]).T)\n",
    "    Z = Z.reshape(xx1.shape)\n",
    "    plt.contourf(xx1, xx2, Z, alpha=0.4, cmap=cmap)\n",
    "    plt.xlim(xx1.min(), xx1.max())\n",
    "    plt.ylim(xx2.min(), xx2.max())\n",
    "\n",
    "    # plot class samples\n",
    "    for idx, cl in enumerate(np.unique(y)):\n",
    "        plt.scatter(x=X[y == cl, 0], y=X[y == cl, 1],\n",
    "        alpha=0.8, c=cmap(idx),\n",
    "        marker=markers[idx], label=cl)\n",
    "\n",
    "        \n",
    "\n",
    "class Perceptron(object):\n",
    "\n",
    "    def __init__(self, eta=0.1, epochs=50):\n",
    "        self.eta = eta\n",
    "        self.epochs = epochs\n",
    "\n",
    "    def train(self, X, y):\n",
    "\n",
    "        self.w_ = np.array([10., 1.])\n",
    "        self.b = -50\n",
    "        self.errors_ = []\n",
    "        \n",
    "        for i in range(self.epochs):\n",
    "            \n",
    "            plt.figure(figsize=(5,5))\n",
    "        \n",
    "            errors = 0\n",
    "            \n",
    "            for xi, target in zip(X, y):\n",
    "                \n",
    "                update = self.eta * (target - self.predict(xi))\n",
    "                self.w_ +=  update * xi\n",
    "                self.b +=  update\n",
    "                errors += int(update != 0.0)\n",
    "                \n",
    "            plt.scatter(X[:,0],X[:,1],c=y)\n",
    "            plt.plot(np.linspace(4,7,100),-1 * (self.b+self.w_[0]*np.linspace(4,7,100))/self.w_[1])\n",
    "            plt.title('Perceptron')\n",
    "            plt.xlabel('sepal length [cm]')\n",
    "            plt.ylabel('petal length [cm]')\n",
    "            plt.xlim(4,7)\n",
    "            plt.ylim(-1,6)\n",
    "            display.clear_output(wait=True)\n",
    "            display.display(plt.gcf())\n",
    "            time.sleep(1)\n",
    "\n",
    "            self.errors_.append(errors)\n",
    "            \n",
    "        return self\n",
    "\n",
    "    def net_input(self, X):\n",
    "        return np.dot(X, self.w_) + self.b\n",
    "\n",
    "    def predict(self, X):\n",
    "        return np.where(self.net_input(X) >= 0.0, 1, -1)"
   ]
  },
  {
   "cell_type": "code",
   "execution_count": 40,
   "metadata": {
    "collapsed": false
   },
   "outputs": [
    {
     "data": {
      "image/png": "[encoded data removed]",
      "text/plain": [
       "<Figure size 360x360 with 1 Axes>"
      ]
     },
     "metadata": {},
     "output_type": "display_data"
    },
    {
     "data": {
      "text/plain": [
       "<__main__.Perceptron at 0x7f5f20302710>"
      ]
     },
     "execution_count": 40,
     "metadata": {},
     "output_type": "execute_result"
    }
   ],
   "source": [
    "import pandas as pd\n",
    "\n",
    "df = pd.read_csv('Dane/iris.data', header=None)\n",
    "\n",
    "# setosa and versicolor\n",
    "y = df.iloc[0:100, 4].values\n",
    "y = np.where(y == 'Iris-setosa', -1, 1)\n",
    "\n",
    "# sepal length and petal length\n",
    "X = df.iloc[0:100, [0,2]].values\n",
    "\n",
    "ppn = Perceptron(epochs=20, eta=0.15)\n",
    "ppn.train(X, y)"
   ]
  }
 ],
 "metadata": {
  "kernelspec": {
   "display_name": "Python 3",
   "language": "python",
   "name": "python3"
  },
  "language_info": {
   "codemirror_mode": {
    "name": "ipython",
    "version": 3
   },
   "file_extension": ".py",
   "mimetype": "text/x-python",
   "name": "python",
   "nbconvert_exporter": "python",
   "pygments_lexer": "ipython3",
   "version": "3.6.6"
  }
 },
 "nbformat": 4,
 "nbformat_minor": 2
}
