{
 "cells": [
  {
   "cell_type": "markdown",
   "metadata": {},
   "source": [
    "### Wielowarstwowa sieć konwolucyjna\n",
    "\n",
    "Wielowarstwowe sieci konwolucyjne wykorzystują wielokrotne składanie operacji filtrowania i uczą się wykrywać bardzo złożone zależności.\n",
    "\n",
    "Wówczas każda kolejna warstwa w jakiś sposób agreguje informacje z poprzedniej warstwy do ogólniejszego poziomu. Przykladowa interpretacja w kontekście klasyfikacji czy na danym zdjęciu jest człowiek:\n",
    "- pierwsza warstwa: rozpoznawianie kształtów/konturów\n",
    "- druga warstwa: detekcja części ciała\n",
    "- trzecia: detekcja człowiek\n",
    "\n",
    "\n",
    "<img src=\"https://adeshpande3.github.io/assets/LeNet.png\" width=\"700\">\n",
    "Źródło: https://adeshpande3.github.io/assets/LeNet.png\""
   ]
  },
  {
   "cell_type": "markdown",
   "metadata": {},
   "source": [
    "### Sieć konwolucyjna uczy się ekstrachować istotne \"informacje\" - parametrami sieci są wagi w filtrach.\n",
    "\n",
    "Czyli sieć sama uczy się tego, co jest istotne w danych dla naszego celu.\n",
    "\n",
    "W sieciach konwolucyjnych na wyjście splotu nakłada się funkcję aktywacji. Z reguły jest to ReLU:\n",
    "\n",
    "<img src=\"https://ml4a.github.io/images/figures/relu.png\" width=\"350\">\n",
    "\n",
    "Źródło: https://ml4a.github.io/images/figures/relu.png\n",
    "\n",
    "Takie przekształcenie można interpretować w następujący sposób: jeżeli w danym obszarze jest coś co dany filtr \"rozpoznaje\" (wartość splotu większa od 0), to zwracamy po prostu wynik splotu. Natomiast jeśli dane nie pasują do danego filtra (wartość ujemna), to niezaleznie od tego co w tych danych jest, zwracamy 0, które mówi, że nie ma tego czego szukamy."
   ]
  },
  {
   "cell_type": "markdown",
   "metadata": {},
   "source": [
    "### Wyjście sieci\n",
    "\n",
    "Ostatnia warsta konwolucyjna (lub pooling) jest rozwijana do wektora. Ten wektor jest przepuszczany przez warstwy dense, które prowadzą do predykcji. Oczywiście można dokonywać predykcji bezpośrednio z rozwiniętego wektora.\n",
    "\n",
    "#### Uwaga (przypomnienie). Filtr dla obrazka 2D jest tablicą 2D. Natomiast kolejne warstwy są 3D - dochodzi wymiar liczby filtrów. Dlatego dalsze filtry są kostami 3D, które mają głębokość równą liczbie filtrów w poprzedniej warstwie.\n",
    "\n",
    "<img src=\"https://www.mathworks.com/content/mathworks/www/en/discovery/convolutional-neural-network/_jcr_content/mainParsys/image_copy.img.jpg/1497876372993.jpg\" width=\"700\">\n",
    "\n",
    "Źródło: https://www.mathworks.com/content/mathworks/www/en/discovery/convolutional-neural-network/_jcr_content/mainParsys/image_copy.img.jpg/1497876372993.jpg\n",
    "\n",
    "Naturalnie, jeżeli na wejściu mamy obiekt więcej niż dwu-wymiarowy to już pierwsza warstwa używa filtrów, które są kostkami.\n",
    "\n",
    "## Strides - wielkość kroku przesunięcia\n",
    "\n",
    "Określa dokładność z jaką chcemy skanować dane.\n",
    "\n",
    "Strides = (1,1)\n",
    "\n",
    "<img src=\"https://adeshpande3.github.io/assets/Stride1.png\" width=\"600\">\n",
    "\n",
    "Strides = (2,2)\n",
    "\n",
    "<img src=\"https://adeshpande3.github.io/assets/Stride2.png\" width=\"600\">\n",
    "\n",
    "Źródło: https://adeshpande3.github.io/adeshpande3.github.io/A-Beginner's-Guide-To-Understanding-Convolutional-Neural-Networks-Part-2/"
   ]
  },
  {
   "cell_type": "markdown",
   "metadata": {},
   "source": [
    "#### Jeszcze jednym istotnym parametrem jest rozmiar filtra."
   ]
  },
  {
   "cell_type": "markdown",
   "metadata": {},
   "source": [
    "# Gray-scale faces\n",
    "\n",
    "http://scikit-learn.org/0.15/auto_examples/applications/face_recognition.html"
   ]
  },
  {
   "cell_type": "code",
   "execution_count": 3,
   "metadata": {},
   "outputs": [],
   "source": [
    "import numpy as np\n",
    "import pandas as pd\n",
    "import os\n",
    "from keras.utils import np_utils"
   ]
  },
  {
   "cell_type": "code",
   "execution_count": 4,
   "metadata": {},
   "outputs": [],
   "source": [
    "from sklearn.datasets import fetch_lfw_people"
   ]
  },
  {
   "cell_type": "code",
   "execution_count": 7,
   "metadata": {},
   "outputs": [],
   "source": [
    "from sklearn.model_selection import train_test_split"
   ]
  },
  {
   "cell_type": "code",
   "execution_count": 6,
   "metadata": {},
   "outputs": [],
   "source": [
    "import matplotlib.pyplot as plt"
   ]
  },
  {
   "cell_type": "code",
   "execution_count": 8,
   "metadata": {},
   "outputs": [],
   "source": [
    "from keras.layers import Flatten\n",
    "from keras.models import Sequential\n",
    "from keras.layers import Dense,Activation\n",
    "from keras.callbacks import EarlyStopping,ModelCheckpoint"
   ]
  },
  {
   "cell_type": "code",
   "execution_count": 9,
   "metadata": {},
   "outputs": [],
   "source": [
    "from keras.layers import Conv2D"
   ]
  },
  {
   "cell_type": "code",
   "execution_count": 10,
   "metadata": {},
   "outputs": [],
   "source": [
    "from keras.layers import MaxPooling2D,AveragePooling2D"
   ]
  },
  {
   "cell_type": "code",
   "execution_count": 11,
   "metadata": {},
   "outputs": [],
   "source": [
    "from keras.layers import Dropout"
   ]
  },
  {
   "cell_type": "code",
   "execution_count": 12,
   "metadata": {},
   "outputs": [],
   "source": [
    "from keras.preprocessing.image import ImageDataGenerator"
   ]
  },
  {
   "cell_type": "code",
   "execution_count": 13,
   "metadata": {},
   "outputs": [],
   "source": [
    "lfw_people = fetch_lfw_people(min_faces_per_person=70,resize=0.4)\n",
    "\n",
    "X = lfw_people.images\n",
    "y = lfw_people.target"
   ]
  },
  {
   "cell_type": "code",
   "execution_count": 14,
   "metadata": {},
   "outputs": [
    {
     "data": {
      "text/plain": [
       "array(['Ariel Sharon', 'Colin Powell', 'Donald Rumsfeld', 'George W Bush',\n",
       "       'Gerhard Schroeder', 'Hugo Chavez', 'Tony Blair'], dtype='<U17')"
      ]
     },
     "execution_count": 14,
     "metadata": {},
     "output_type": "execute_result"
    }
   ],
   "source": [
    "lfw_people.target_names"
   ]
  },
  {
   "cell_type": "code",
   "execution_count": 15,
   "metadata": {},
   "outputs": [],
   "source": [
    "X = X.reshape((1288,50,37,1))"
   ]
  },
  {
   "cell_type": "code",
   "execution_count": 16,
   "metadata": {},
   "outputs": [
    {
     "data": {
      "text/plain": [
       "(1288, 50, 37)"
      ]
     },
     "execution_count": 16,
     "metadata": {},
     "output_type": "execute_result"
    }
   ],
   "source": [
    "lfw_people.images.shape"
   ]
  },
  {
   "cell_type": "code",
   "execution_count": 17,
   "metadata": {},
   "outputs": [],
   "source": [
    "y = np_utils.to_categorical(y)"
   ]
  },
  {
   "cell_type": "code",
   "execution_count": 18,
   "metadata": {},
   "outputs": [
    {
     "data": {
      "text/plain": [
       "array([[0., 0., 0., 0., 0., 1., 0.],\n",
       "       [0., 0., 0., 0., 0., 0., 1.],\n",
       "       [0., 0., 0., 1., 0., 0., 0.],\n",
       "       [0., 1., 0., 0., 0., 0., 0.],\n",
       "       [1., 0., 0., 0., 0., 0., 0.]], dtype=float32)"
      ]
     },
     "execution_count": 18,
     "metadata": {},
     "output_type": "execute_result"
    }
   ],
   "source": [
    "y[:5]"
   ]
  },
  {
   "cell_type": "code",
   "execution_count": 19,
   "metadata": {},
   "outputs": [],
   "source": [
    "X_train,X_test,y_train,y_test = train_test_split(X,y,test_size = 0.4)"
   ]
  },
  {
   "cell_type": "code",
   "execution_count": 20,
   "metadata": {},
   "outputs": [
    {
     "data": {
      "text/plain": [
       "(772, 50, 37, 1)"
      ]
     },
     "execution_count": 20,
     "metadata": {},
     "output_type": "execute_result"
    }
   ],
   "source": [
    "X_train.shape"
   ]
  },
  {
   "cell_type": "code",
   "execution_count": 21,
   "metadata": {},
   "outputs": [
    {
     "data": {
      "text/plain": [
       "(516, 50, 37, 1)"
      ]
     },
     "execution_count": 21,
     "metadata": {},
     "output_type": "execute_result"
    }
   ],
   "source": [
    "X_test.shape"
   ]
  },
  {
   "cell_type": "code",
   "execution_count": 22,
   "metadata": {},
   "outputs": [],
   "source": [
    "X_train /= 255"
   ]
  },
  {
   "cell_type": "code",
   "execution_count": 23,
   "metadata": {},
   "outputs": [],
   "source": [
    "X_test /= 255"
   ]
  },
  {
   "cell_type": "code",
   "execution_count": 24,
   "metadata": {},
   "outputs": [
    {
     "data": {
      "text/plain": [
       "(50, 37)"
      ]
     },
     "execution_count": 24,
     "metadata": {},
     "output_type": "execute_result"
    }
   ],
   "source": [
    "X_train[1,:,:,0].shape"
   ]
  },
  {
   "cell_type": "code",
   "execution_count": 26,
   "metadata": {},
   "outputs": [
    {
     "data": {
      "image/png": "[encoded data removed]",
      "text/plain": [
       "<Figure size 432x288 with 1 Axes>"
      ]
     },
     "metadata": {},
     "output_type": "display_data"
    }
   ],
   "source": [
    "plt.imshow(X_train[1,:,:,0],cmap='gray')\n",
    "plt.show()"
   ]
  },
  {
   "cell_type": "code",
   "execution_count": 27,
   "metadata": {},
   "outputs": [
    {
     "data": {
      "text/plain": [
       "(772, 50, 37, 1)"
      ]
     },
     "execution_count": 27,
     "metadata": {},
     "output_type": "execute_result"
    }
   ],
   "source": [
    "X_train.shape"
   ]
  },
  {
   "cell_type": "markdown",
   "metadata": {},
   "source": [
    "### No convolutional layer"
   ]
  },
  {
   "cell_type": "code",
   "execution_count": 28,
   "metadata": {},
   "outputs": [],
   "source": [
    "model = Sequential()\n",
    "model.add(Flatten(input_shape=(50,37,1)))\n",
    "model.add(Dense(7,activation='softmax'))\n",
    "\n",
    "model.compile(loss='categorical_crossentropy',optimizer='Adam',metrics=['accuracy'])\n",
    "early_stopping = EarlyStopping(patience=3)#jeśli przez 3 kolejne kroki model sie nie poprawi to przerywa"
   ]
  },
  {
   "cell_type": "code",
   "execution_count": 29,
   "metadata": {},
   "outputs": [
    {
     "name": "stdout",
     "output_type": "stream",
     "text": [
      "_________________________________________________________________\n",
      "Layer (type)                 Output Shape              Param #   \n",
      "=================================================================\n",
      "flatten_1 (Flatten)          (None, 1850)              0         \n",
      "_________________________________________________________________\n",
      "dense_1 (Dense)              (None, 7)                 12957     \n",
      "=================================================================\n",
      "Total params: 12,957\n",
      "Trainable params: 12,957\n",
      "Non-trainable params: 0\n",
      "_________________________________________________________________\n"
     ]
    }
   ],
   "source": [
    "model.summary()"
   ]
  },
  {
   "cell_type": "code",
   "execution_count": 30,
   "metadata": {},
   "outputs": [
    {
     "name": "stdout",
     "output_type": "stream",
     "text": [
      "Train on 579 samples, validate on 193 samples\n",
      "Epoch 1/100\n",
      " - 0s - loss: 1.9030 - acc: 0.2971 - val_loss: 1.7442 - val_acc: 0.4041\n",
      "Epoch 2/100\n",
      " - 0s - loss: 1.7158 - acc: 0.4041 - val_loss: 1.6842 - val_acc: 0.4249\n",
      "Epoch 3/100\n",
      " - 0s - loss: 1.6338 - acc: 0.4093 - val_loss: 1.6144 - val_acc: 0.4093\n",
      "Epoch 4/100\n",
      " - 0s - loss: 1.5974 - acc: 0.4231 - val_loss: 1.6289 - val_acc: 0.4611\n",
      "Epoch 5/100\n",
      " - 0s - loss: 1.5412 - acc: 0.4663 - val_loss: 1.5195 - val_acc: 0.4819\n",
      "Epoch 6/100\n",
      " - 0s - loss: 1.4701 - acc: 0.4784 - val_loss: 1.6021 - val_acc: 0.4301\n",
      "Epoch 7/100\n",
      " - 0s - loss: 1.4776 - acc: 0.4456 - val_loss: 1.4485 - val_acc: 0.5751\n",
      "Epoch 8/100\n",
      " - 0s - loss: 1.3920 - acc: 0.5285 - val_loss: 1.3779 - val_acc: 0.5078\n",
      "Epoch 9/100\n",
      " - 0s - loss: 1.3549 - acc: 0.5216 - val_loss: 1.4356 - val_acc: 0.4974\n",
      "Epoch 10/100\n",
      " - 0s - loss: 1.3321 - acc: 0.5164 - val_loss: 1.3307 - val_acc: 0.5959\n",
      "Epoch 11/100\n",
      " - 0s - loss: 1.2776 - acc: 0.5613 - val_loss: 1.2851 - val_acc: 0.5337\n",
      "Epoch 12/100\n",
      " - 0s - loss: 1.2325 - acc: 0.5579 - val_loss: 1.3512 - val_acc: 0.5544\n",
      "Epoch 13/100\n",
      " - 0s - loss: 1.2269 - acc: 0.5751 - val_loss: 1.2622 - val_acc: 0.6580\n",
      "Epoch 14/100\n",
      " - 0s - loss: 1.2370 - acc: 0.5717 - val_loss: 1.2748 - val_acc: 0.4870\n",
      "Epoch 15/100\n",
      " - 0s - loss: 1.2090 - acc: 0.5838 - val_loss: 1.3412 - val_acc: 0.5855\n",
      "Epoch 16/100\n",
      " - 0s - loss: 1.1706 - acc: 0.5838 - val_loss: 1.1973 - val_acc: 0.5699\n",
      "Epoch 17/100\n",
      " - 0s - loss: 1.1107 - acc: 0.6321 - val_loss: 1.1978 - val_acc: 0.6269\n",
      "Epoch 18/100\n",
      " - 0s - loss: 1.0809 - acc: 0.6425 - val_loss: 1.2780 - val_acc: 0.6062\n",
      "Epoch 19/100\n",
      " - 0s - loss: 1.0781 - acc: 0.6321 - val_loss: 1.1867 - val_acc: 0.5959\n",
      "Epoch 20/100\n",
      " - 0s - loss: 1.0617 - acc: 0.6304 - val_loss: 1.1637 - val_acc: 0.5907\n",
      "Epoch 21/100\n",
      " - 0s - loss: 1.0021 - acc: 0.6822 - val_loss: 1.1633 - val_acc: 0.5699\n",
      "Epoch 22/100\n",
      " - 0s - loss: 1.0840 - acc: 0.5993 - val_loss: 1.1841 - val_acc: 0.5699\n",
      "Epoch 23/100\n",
      " - 0s - loss: 1.0237 - acc: 0.6442 - val_loss: 1.1297 - val_acc: 0.6580\n",
      "Epoch 24/100\n",
      " - 0s - loss: 1.0075 - acc: 0.6494 - val_loss: 1.1174 - val_acc: 0.5959\n",
      "Epoch 25/100\n",
      " - 0s - loss: 0.9786 - acc: 0.6684 - val_loss: 1.1015 - val_acc: 0.6373\n",
      "Epoch 26/100\n",
      " - 0s - loss: 0.9874 - acc: 0.6598 - val_loss: 1.0811 - val_acc: 0.6166\n",
      "Epoch 27/100\n",
      " - 0s - loss: 0.9070 - acc: 0.7375 - val_loss: 1.0814 - val_acc: 0.6062\n",
      "Epoch 28/100\n",
      " - 0s - loss: 0.8983 - acc: 0.7323 - val_loss: 1.0313 - val_acc: 0.6218\n",
      "Epoch 29/100\n",
      " - 0s - loss: 0.8956 - acc: 0.7168 - val_loss: 0.9989 - val_acc: 0.6632\n",
      "Epoch 30/100\n",
      " - 0s - loss: 0.8974 - acc: 0.7116 - val_loss: 0.9852 - val_acc: 0.6528\n",
      "Epoch 31/100\n",
      " - 0s - loss: 0.8818 - acc: 0.7375 - val_loss: 1.0418 - val_acc: 0.5959\n",
      "Epoch 32/100\n",
      " - 0s - loss: 0.9251 - acc: 0.6770 - val_loss: 0.9954 - val_acc: 0.6373\n",
      "Epoch 33/100\n",
      " - 0s - loss: 0.8597 - acc: 0.7098 - val_loss: 0.9859 - val_acc: 0.6528\n"
     ]
    },
    {
     "data": {
      "text/plain": [
       "<keras.callbacks.History at 0x7fefa8970ef0>"
      ]
     },
     "execution_count": 30,
     "metadata": {},
     "output_type": "execute_result"
    }
   ],
   "source": [
    "model.fit(X_train,y_train,validation_split=0.25,epochs=100,callbacks=[early_stopping],verbose=2)"
   ]
  },
  {
   "cell_type": "code",
   "execution_count": 31,
   "metadata": {},
   "outputs": [
    {
     "name": "stdout",
     "output_type": "stream",
     "text": [
      "772/772 [==============================] - 0s 56us/step\n",
      "[0.933119172259316, 0.6787564766839378]\n",
      "516/516 [==============================] - 0s 45us/step\n",
      "[1.025804177735203, 0.6531007751937985]\n"
     ]
    }
   ],
   "source": [
    "print(model.evaluate(X_train,y_train))\n",
    "print(model.evaluate(X_test,y_test))"
   ]
  },
  {
   "cell_type": "markdown",
   "metadata": {},
   "source": [
    "### Model with one dense layer"
   ]
  },
  {
   "cell_type": "code",
   "execution_count": 32,
   "metadata": {},
   "outputs": [
    {
     "name": "stdout",
     "output_type": "stream",
     "text": [
      "_________________________________________________________________\n",
      "Layer (type)                 Output Shape              Param #   \n",
      "=================================================================\n",
      "flatten_2 (Flatten)          (None, 1850)              0         \n",
      "_________________________________________________________________\n",
      "dense_2 (Dense)              (None, 100)               185100    \n",
      "_________________________________________________________________\n",
      "dense_3 (Dense)              (None, 7)                 707       \n",
      "=================================================================\n",
      "Total params: 185,807\n",
      "Trainable params: 185,807\n",
      "Non-trainable params: 0\n",
      "_________________________________________________________________\n"
     ]
    }
   ],
   "source": [
    "model = Sequential()\n",
    "model.add(Flatten(input_shape=(50,37,1)))\n",
    "model.add(Dense(100,activation='relu'))\n",
    "model.add(Dense(7,activation='softmax'))\n",
    "\n",
    "model.compile(loss='categorical_crossentropy',optimizer='Adam',metrics=['accuracy'])\n",
    "early_stopping = EarlyStopping(patience=3)#jeśli przez 3 kolejne kroi model sie nie poprawi to przerywa\n",
    "model.summary()"
   ]
  },
  {
   "cell_type": "code",
   "execution_count": 33,
   "metadata": {
    "scrolled": true
   },
   "outputs": [
    {
     "name": "stdout",
     "output_type": "stream",
     "text": [
      "Train on 579 samples, validate on 193 samples\n",
      "Epoch 1/100\n",
      " - 1s - loss: 1.8935 - acc: 0.3817 - val_loss: 1.6644 - val_acc: 0.4041\n",
      "Epoch 2/100\n",
      " - 0s - loss: 1.6899 - acc: 0.4145 - val_loss: 1.7608 - val_acc: 0.4041\n",
      "Epoch 3/100\n",
      " - 0s - loss: 1.6569 - acc: 0.4162 - val_loss: 1.5992 - val_acc: 0.4819\n",
      "Epoch 4/100\n",
      " - 0s - loss: 1.5218 - acc: 0.4715 - val_loss: 1.5464 - val_acc: 0.4093\n",
      "Epoch 5/100\n",
      " - 0s - loss: 1.4956 - acc: 0.4836 - val_loss: 1.4888 - val_acc: 0.4611\n",
      "Epoch 6/100\n",
      " - 0s - loss: 1.3857 - acc: 0.5060 - val_loss: 1.3927 - val_acc: 0.5751\n",
      "Epoch 7/100\n",
      " - 0s - loss: 1.4428 - acc: 0.5043 - val_loss: 1.5193 - val_acc: 0.5130\n",
      "Epoch 8/100\n",
      " - 0s - loss: 1.3154 - acc: 0.4991 - val_loss: 1.3649 - val_acc: 0.5544\n",
      "Epoch 9/100\n",
      " - 0s - loss: 1.2446 - acc: 0.5596 - val_loss: 1.2964 - val_acc: 0.5855\n",
      "Epoch 10/100\n",
      " - 0s - loss: 1.2128 - acc: 0.5717 - val_loss: 1.2801 - val_acc: 0.5751\n",
      "Epoch 11/100\n",
      " - 0s - loss: 1.1618 - acc: 0.5889 - val_loss: 1.1779 - val_acc: 0.6010\n",
      "Epoch 12/100\n",
      " - 0s - loss: 1.1340 - acc: 0.6131 - val_loss: 1.2153 - val_acc: 0.6010\n",
      "Epoch 13/100\n",
      " - 0s - loss: 1.0965 - acc: 0.6235 - val_loss: 1.2679 - val_acc: 0.5337\n",
      "Epoch 14/100\n",
      " - 0s - loss: 1.0914 - acc: 0.6339 - val_loss: 1.1566 - val_acc: 0.5699\n",
      "Epoch 15/100\n",
      " - 0s - loss: 1.0521 - acc: 0.6408 - val_loss: 1.1774 - val_acc: 0.5389\n",
      "Epoch 16/100\n",
      " - 0s - loss: 1.0812 - acc: 0.6166 - val_loss: 1.1285 - val_acc: 0.6114\n",
      "Epoch 17/100\n",
      " - 0s - loss: 1.0230 - acc: 0.6615 - val_loss: 1.0732 - val_acc: 0.5803\n",
      "Epoch 18/100\n",
      " - 0s - loss: 1.0085 - acc: 0.6718 - val_loss: 1.1624 - val_acc: 0.5596\n",
      "Epoch 19/100\n",
      " - 0s - loss: 0.9484 - acc: 0.6857 - val_loss: 1.1941 - val_acc: 0.6062\n",
      "Epoch 20/100\n",
      " - 0s - loss: 0.9548 - acc: 0.6649 - val_loss: 1.0105 - val_acc: 0.6632\n",
      "Epoch 21/100\n",
      " - 0s - loss: 0.8738 - acc: 0.7081 - val_loss: 0.9502 - val_acc: 0.7098\n",
      "Epoch 22/100\n",
      " - 0s - loss: 0.8395 - acc: 0.7323 - val_loss: 0.9288 - val_acc: 0.7150\n",
      "Epoch 23/100\n",
      " - 0s - loss: 0.8596 - acc: 0.7306 - val_loss: 1.3178 - val_acc: 0.5181\n",
      "Epoch 24/100\n",
      " - 0s - loss: 1.0781 - acc: 0.6131 - val_loss: 1.1112 - val_acc: 0.6632\n",
      "Epoch 25/100\n",
      " - 0s - loss: 0.8808 - acc: 0.6805 - val_loss: 1.0155 - val_acc: 0.6788\n"
     ]
    },
    {
     "data": {
      "text/plain": [
       "<keras.callbacks.History at 0x7fefa5382f28>"
      ]
     },
     "execution_count": 33,
     "metadata": {},
     "output_type": "execute_result"
    }
   ],
   "source": [
    "model.fit(X_train,y_train,validation_split=0.25,epochs=100,callbacks=[early_stopping],verbose=2)"
   ]
  },
  {
   "cell_type": "code",
   "execution_count": 34,
   "metadata": {},
   "outputs": [
    {
     "name": "stdout",
     "output_type": "stream",
     "text": [
      "772/772 [==============================] - 0s 72us/step\n",
      "[0.9040276531728438, 0.7150259067357513]\n",
      "516/516 [==============================] - 0s 49us/step\n",
      "[1.0642260516336721, 0.6434108527131783]\n"
     ]
    }
   ],
   "source": [
    "print(model.evaluate(X_train,y_train))\n",
    "print(model.evaluate(X_test,y_test))"
   ]
  },
  {
   "cell_type": "markdown",
   "metadata": {},
   "source": [
    "### Model with one convolutional layer"
   ]
  },
  {
   "cell_type": "code",
   "execution_count": 35,
   "metadata": {},
   "outputs": [
    {
     "name": "stdout",
     "output_type": "stream",
     "text": [
      "_________________________________________________________________\n",
      "Layer (type)                 Output Shape              Param #   \n",
      "=================================================================\n",
      "conv2d_1 (Conv2D)            (None, 48, 35, 8)         80        \n",
      "_________________________________________________________________\n",
      "flatten_3 (Flatten)          (None, 13440)             0         \n",
      "_________________________________________________________________\n",
      "dense_4 (Dense)              (None, 100)               1344100   \n",
      "_________________________________________________________________\n",
      "dense_5 (Dense)              (None, 7)                 707       \n",
      "=================================================================\n",
      "Total params: 1,344,887\n",
      "Trainable params: 1,344,887\n",
      "Non-trainable params: 0\n",
      "_________________________________________________________________\n"
     ]
    }
   ],
   "source": [
    "model_conv = Sequential()\n",
    "\n",
    "model_conv.add(Conv2D(8,(3,3),activation='relu',input_shape=(50,37,1)))\n",
    "model_conv.add(Flatten())\n",
    "model_conv.add(Dense(100,activation='relu'))\n",
    "model_conv.add(Dense(7,activation='softmax'))\n",
    "model_conv.compile(loss='categorical_crossentropy',optimizer='Adam',metrics=['accuracy'])\n",
    "early_stopping = EarlyStopping(patience=3)#jeśli przez 3 kolejne kroi model sie nie poprawi to przerywa\n",
    "model_conv.summary()"
   ]
  },
  {
   "cell_type": "code",
   "execution_count": 36,
   "metadata": {},
   "outputs": [
    {
     "name": "stdout",
     "output_type": "stream",
     "text": [
      "Train on 579 samples, validate on 193 samples\n",
      "Epoch 1/100\n",
      " - 2s - loss: 1.7573 - acc: 0.3454 - val_loss: 1.6043 - val_acc: 0.4041\n",
      "Epoch 2/100\n",
      " - 1s - loss: 1.5734 - acc: 0.4301 - val_loss: 1.5797 - val_acc: 0.4767\n",
      "Epoch 3/100\n",
      " - 1s - loss: 1.4319 - acc: 0.4732 - val_loss: 1.4691 - val_acc: 0.4767\n",
      "Epoch 4/100\n",
      " - 1s - loss: 1.3124 - acc: 0.5112 - val_loss: 1.2914 - val_acc: 0.5544\n",
      "Epoch 5/100\n",
      " - 1s - loss: 1.1503 - acc: 0.6097 - val_loss: 1.2133 - val_acc: 0.6114\n",
      "Epoch 6/100\n",
      " - 1s - loss: 1.0430 - acc: 0.6667 - val_loss: 1.1365 - val_acc: 0.6373\n",
      "Epoch 7/100\n",
      " - 1s - loss: 0.9116 - acc: 0.7340 - val_loss: 1.1096 - val_acc: 0.5907\n",
      "Epoch 8/100\n",
      " - 1s - loss: 0.8099 - acc: 0.7686 - val_loss: 1.0252 - val_acc: 0.6580\n",
      "Epoch 9/100\n",
      " - 1s - loss: 0.7262 - acc: 0.7703 - val_loss: 0.9078 - val_acc: 0.7047\n",
      "Epoch 10/100\n",
      " - 1s - loss: 0.6617 - acc: 0.8290 - val_loss: 0.9903 - val_acc: 0.6269\n",
      "Epoch 11/100\n",
      " - 1s - loss: 0.6040 - acc: 0.8135 - val_loss: 0.9609 - val_acc: 0.6528\n",
      "Epoch 12/100\n",
      " - 1s - loss: 0.4979 - acc: 0.8670 - val_loss: 0.7621 - val_acc: 0.7668\n",
      "Epoch 13/100\n",
      " - 1s - loss: 0.4325 - acc: 0.8929 - val_loss: 0.7556 - val_acc: 0.7409\n",
      "Epoch 14/100\n",
      " - 1s - loss: 0.3820 - acc: 0.9154 - val_loss: 0.6661 - val_acc: 0.7876\n",
      "Epoch 15/100\n",
      " - 1s - loss: 0.3719 - acc: 0.9136 - val_loss: 0.6673 - val_acc: 0.7979\n",
      "Epoch 16/100\n",
      " - 1s - loss: 0.2948 - acc: 0.9430 - val_loss: 0.6344 - val_acc: 0.7927\n",
      "Epoch 17/100\n",
      " - 1s - loss: 0.2653 - acc: 0.9534 - val_loss: 0.5702 - val_acc: 0.8238\n",
      "Epoch 18/100\n",
      " - 1s - loss: 0.2378 - acc: 0.9620 - val_loss: 0.5528 - val_acc: 0.8187\n",
      "Epoch 19/100\n",
      " - 1s - loss: 0.2687 - acc: 0.9361 - val_loss: 0.5445 - val_acc: 0.8342\n",
      "Epoch 20/100\n",
      " - 1s - loss: 0.1943 - acc: 0.9741 - val_loss: 0.5646 - val_acc: 0.8187\n",
      "Epoch 21/100\n",
      " - 1s - loss: 0.1575 - acc: 0.9810 - val_loss: 0.6595 - val_acc: 0.7668\n",
      "Epoch 22/100\n",
      " - 1s - loss: 0.1911 - acc: 0.9603 - val_loss: 0.5508 - val_acc: 0.8187\n"
     ]
    },
    {
     "data": {
      "text/plain": [
       "<keras.callbacks.History at 0x7fefa5bfa208>"
      ]
     },
     "execution_count": 36,
     "metadata": {},
     "output_type": "execute_result"
    }
   ],
   "source": [
    "model_conv.fit(X_train,y_train,validation_split=0.25,epochs=100,callbacks=[early_stopping],verbose=2)"
   ]
  },
  {
   "cell_type": "code",
   "execution_count": 37,
   "metadata": {},
   "outputs": [
    {
     "name": "stdout",
     "output_type": "stream",
     "text": [
      "772/772 [==============================] - 1s 655us/step\n",
      "[0.23386973188948754, 0.9507772020725389]\n",
      "516/516 [==============================] - 0s 664us/step\n",
      "[0.6116619253343389, 0.8042635658914729]\n"
     ]
    }
   ],
   "source": [
    "print(model_conv.evaluate(X_train,y_train))\n",
    "print(model_conv.evaluate(X_test,y_test))"
   ]
  },
  {
   "cell_type": "markdown",
   "metadata": {},
   "source": [
    "## Model with max pooling"
   ]
  },
  {
   "cell_type": "code",
   "execution_count": 38,
   "metadata": {},
   "outputs": [
    {
     "name": "stdout",
     "output_type": "stream",
     "text": [
      "_________________________________________________________________\n",
      "Layer (type)                 Output Shape              Param #   \n",
      "=================================================================\n",
      "conv2d_2 (Conv2D)            (None, 50, 37, 8)         80        \n",
      "_________________________________________________________________\n",
      "max_pooling2d_1 (MaxPooling2 (None, 25, 18, 8)         0         \n",
      "_________________________________________________________________\n",
      "flatten_4 (Flatten)          (None, 3600)              0         \n",
      "_________________________________________________________________\n",
      "dense_6 (Dense)              (None, 128)               460928    \n",
      "_________________________________________________________________\n",
      "dense_7 (Dense)              (None, 7)                 903       \n",
      "=================================================================\n",
      "Total params: 461,911\n",
      "Trainable params: 461,911\n",
      "Non-trainable params: 0\n",
      "_________________________________________________________________\n"
     ]
    }
   ],
   "source": [
    "model_conv = Sequential()\n",
    "model_conv.add(Conv2D(8,(3,3),activation='relu',input_shape=(50,37,1),padding='same'))\n",
    "model_conv.add(MaxPooling2D())\n",
    "model_conv.add(Flatten())\n",
    "model_conv.add(Dense(128,activation='relu'))\n",
    "model_conv.add(Dense(7,activation='softmax'))\n",
    "model_conv.compile(loss='categorical_crossentropy',optimizer='Adam',metrics=['accuracy'])\n",
    "early_stopping = EarlyStopping(patience=3)#jeśli przez 3 kolejne kroi model sie nie poprawi to przerywa\n",
    "model_conv.summary()"
   ]
  },
  {
   "cell_type": "code",
   "execution_count": 41,
   "metadata": {
    "scrolled": true
   },
   "outputs": [
    {
     "name": "stdout",
     "output_type": "stream",
     "text": [
      "Train on 579 samples, validate on 193 samples\n",
      "Epoch 1/100\n",
      " - 1s - loss: 0.2157 - acc: 0.9620 - val_loss: 0.5921 - val_acc: 0.7513\n",
      "Epoch 2/100\n",
      " - 1s - loss: 0.1753 - acc: 0.9741 - val_loss: 0.4797 - val_acc: 0.8446\n",
      "Epoch 3/100\n",
      " - 1s - loss: 0.1495 - acc: 0.9931 - val_loss: 0.5429 - val_acc: 0.8238\n",
      "Epoch 4/100\n",
      " - 1s - loss: 0.1440 - acc: 0.9914 - val_loss: 0.5215 - val_acc: 0.8187\n",
      "Epoch 5/100\n",
      " - 1s - loss: 0.1473 - acc: 0.9775 - val_loss: 0.4674 - val_acc: 0.8601\n",
      "Epoch 6/100\n",
      " - 1s - loss: 0.1073 - acc: 0.9896 - val_loss: 0.4345 - val_acc: 0.8497\n",
      "Epoch 7/100\n",
      " - 1s - loss: 0.1101 - acc: 0.9862 - val_loss: 0.4518 - val_acc: 0.8446\n",
      "Epoch 8/100\n",
      " - 1s - loss: 0.0826 - acc: 1.0000 - val_loss: 0.4209 - val_acc: 0.8653\n",
      "Epoch 9/100\n",
      " - 1s - loss: 0.0894 - acc: 0.9879 - val_loss: 0.4843 - val_acc: 0.8238\n",
      "Epoch 10/100\n",
      " - 1s - loss: 0.0833 - acc: 0.9983 - val_loss: 0.4770 - val_acc: 0.8083\n",
      "Epoch 11/100\n",
      " - 1s - loss: 0.0651 - acc: 1.0000 - val_loss: 0.4513 - val_acc: 0.8342\n"
     ]
    },
    {
     "data": {
      "text/plain": [
       "<keras.callbacks.History at 0x7fefa5397a90>"
      ]
     },
     "execution_count": 41,
     "metadata": {},
     "output_type": "execute_result"
    }
   ],
   "source": [
    "model_conv.fit(X_train,y_train,validation_split=0.25,epochs=100,callbacks=[early_stopping],verbose=2)"
   ]
  },
  {
   "cell_type": "code",
   "execution_count": 42,
   "metadata": {},
   "outputs": [
    {
     "name": "stdout",
     "output_type": "stream",
     "text": [
      "772/772 [==============================] - 1s 648us/step\n",
      "[0.15541127327964713, 0.9585492227979274]\n",
      "516/516 [==============================] - 0s 556us/step\n",
      "[0.5385752914025802, 0.8468992248062015]\n"
     ]
    }
   ],
   "source": [
    "print(model_conv.evaluate(X_train,y_train))\n",
    "print(model_conv.evaluate(X_test,y_test))"
   ]
  },
  {
   "cell_type": "markdown",
   "metadata": {},
   "source": [
    "## Average pooling"
   ]
  },
  {
   "cell_type": "code",
   "execution_count": 43,
   "metadata": {},
   "outputs": [
    {
     "name": "stdout",
     "output_type": "stream",
     "text": [
      "_________________________________________________________________\n",
      "Layer (type)                 Output Shape              Param #   \n",
      "=================================================================\n",
      "conv2d_3 (Conv2D)            (None, 50, 37, 8)         80        \n",
      "_________________________________________________________________\n",
      "average_pooling2d_1 (Average (None, 25, 18, 8)         0         \n",
      "_________________________________________________________________\n",
      "flatten_5 (Flatten)          (None, 3600)              0         \n",
      "_________________________________________________________________\n",
      "dense_8 (Dense)              (None, 100)               360100    \n",
      "_________________________________________________________________\n",
      "dense_9 (Dense)              (None, 7)                 707       \n",
      "=================================================================\n",
      "Total params: 360,887\n",
      "Trainable params: 360,887\n",
      "Non-trainable params: 0\n",
      "_________________________________________________________________\n"
     ]
    }
   ],
   "source": [
    "model_conv = Sequential()\n",
    "model_conv.add(Conv2D(8,(3,3),activation='relu',input_shape=(50,37,1),padding='same'))\n",
    "model_conv.add(AveragePooling2D())\n",
    "model_conv.add(Flatten())\n",
    "model_conv.add(Dense(100,activation='relu'))\n",
    "model_conv.add(Dense(7,activation='softmax'))\n",
    "model_conv.compile(loss='categorical_crossentropy',optimizer='Adam',metrics=['accuracy'])\n",
    "early_stopping = EarlyStopping(patience=3)#jeśli przez 3 kolejne kroi model sie nie poprawi to przerywa\n",
    "model_conv.summary()"
   ]
  },
  {
   "cell_type": "code",
   "execution_count": 44,
   "metadata": {
    "scrolled": true
   },
   "outputs": [
    {
     "name": "stdout",
     "output_type": "stream",
     "text": [
      "Train on 579 samples, validate on 193 samples\n",
      "Epoch 1/100\n",
      " - 1s - loss: 1.7613 - acc: 0.3748 - val_loss: 1.6809 - val_acc: 0.4041\n",
      "Epoch 2/100\n",
      " - 1s - loss: 1.6838 - acc: 0.3955 - val_loss: 1.6327 - val_acc: 0.4041\n",
      "Epoch 3/100\n",
      " - 1s - loss: 1.6249 - acc: 0.3955 - val_loss: 1.5870 - val_acc: 0.4093\n",
      "Epoch 4/100\n",
      " - 1s - loss: 1.5183 - acc: 0.4335 - val_loss: 1.5377 - val_acc: 0.4249\n",
      "Epoch 5/100\n",
      " - 1s - loss: 1.4370 - acc: 0.4870 - val_loss: 1.4455 - val_acc: 0.4560\n",
      "Epoch 6/100\n",
      " - 1s - loss: 1.3636 - acc: 0.4819 - val_loss: 1.4326 - val_acc: 0.5803\n",
      "Epoch 7/100\n",
      " - 1s - loss: 1.2710 - acc: 0.5544 - val_loss: 1.3319 - val_acc: 0.5648\n",
      "Epoch 8/100\n",
      " - 1s - loss: 1.1663 - acc: 0.5734 - val_loss: 1.1886 - val_acc: 0.5907\n",
      "Epoch 9/100\n",
      " - 1s - loss: 1.0972 - acc: 0.6442 - val_loss: 1.1721 - val_acc: 0.5803\n",
      "Epoch 10/100\n",
      " - 1s - loss: 0.9755 - acc: 0.6667 - val_loss: 1.1141 - val_acc: 0.6321\n",
      "Epoch 11/100\n",
      " - 1s - loss: 0.8904 - acc: 0.7098 - val_loss: 1.0004 - val_acc: 0.6528\n",
      "Epoch 12/100\n",
      " - 1s - loss: 0.8298 - acc: 0.7116 - val_loss: 1.0493 - val_acc: 0.6218\n",
      "Epoch 13/100\n",
      " - 1s - loss: 0.8003 - acc: 0.7098 - val_loss: 0.9019 - val_acc: 0.6684\n",
      "Epoch 14/100\n",
      " - 1s - loss: 0.6987 - acc: 0.7824 - val_loss: 0.9096 - val_acc: 0.6321\n",
      "Epoch 15/100\n",
      " - 1s - loss: 0.6390 - acc: 0.8152 - val_loss: 0.7899 - val_acc: 0.7306\n",
      "Epoch 16/100\n",
      " - 1s - loss: 0.5834 - acc: 0.8463 - val_loss: 0.7838 - val_acc: 0.7565\n",
      "Epoch 17/100\n",
      " - 1s - loss: 0.5721 - acc: 0.8325 - val_loss: 0.7917 - val_acc: 0.7254\n",
      "Epoch 18/100\n",
      " - 1s - loss: 0.4755 - acc: 0.8895 - val_loss: 0.7020 - val_acc: 0.7720\n",
      "Epoch 19/100\n",
      " - 1s - loss: 0.4577 - acc: 0.8791 - val_loss: 0.6885 - val_acc: 0.7565\n",
      "Epoch 20/100\n",
      " - 1s - loss: 0.4290 - acc: 0.8929 - val_loss: 0.6659 - val_acc: 0.7979\n",
      "Epoch 21/100\n",
      " - 1s - loss: 0.3965 - acc: 0.8895 - val_loss: 0.6766 - val_acc: 0.7461\n",
      "Epoch 22/100\n",
      " - 1s - loss: 0.4028 - acc: 0.8964 - val_loss: 0.6518 - val_acc: 0.7617\n",
      "Epoch 23/100\n",
      " - 1s - loss: 0.3967 - acc: 0.8946 - val_loss: 0.7919 - val_acc: 0.7306\n",
      "Epoch 24/100\n",
      " - 1s - loss: 0.3854 - acc: 0.8912 - val_loss: 0.6151 - val_acc: 0.8083\n",
      "Epoch 25/100\n",
      " - 1s - loss: 0.3393 - acc: 0.9154 - val_loss: 0.6734 - val_acc: 0.7927\n",
      "Epoch 26/100\n",
      " - 1s - loss: 0.3120 - acc: 0.9275 - val_loss: 0.6212 - val_acc: 0.7720\n",
      "Epoch 27/100\n",
      " - 1s - loss: 0.2784 - acc: 0.9344 - val_loss: 0.6234 - val_acc: 0.8083\n"
     ]
    },
    {
     "data": {
      "text/plain": [
       "<keras.callbacks.History at 0x7fef9c0250b8>"
      ]
     },
     "execution_count": 44,
     "metadata": {},
     "output_type": "execute_result"
    }
   ],
   "source": [
    "model_conv.fit(X_train,y_train,validation_split=0.25,epochs=100,callbacks=[early_stopping],verbose=2)"
   ]
  },
  {
   "cell_type": "code",
   "execution_count": 45,
   "metadata": {},
   "outputs": [
    {
     "name": "stdout",
     "output_type": "stream",
     "text": [
      "772/772 [==============================] - 1s 721us/step\n",
      "[0.3716142345895421, 0.9106217616580311]\n",
      "516/516 [==============================] - 0s 695us/step\n",
      "[0.6675881325274475, 0.7868217054263565]\n"
     ]
    }
   ],
   "source": [
    "print(model_conv.evaluate(X_train,y_train))\n",
    "print(model_conv.evaluate(X_test,y_test))"
   ]
  }
 ],
 "metadata": {
  "kernelspec": {
   "display_name": "Python 3",
   "language": "python",
   "name": "python3"
  },
  "language_info": {
   "codemirror_mode": {
    "name": "ipython",
    "version": 3
   },
   "file_extension": ".py",
   "mimetype": "text/x-python",
   "name": "python",
   "nbconvert_exporter": "python",
   "pygments_lexer": "ipython3",
   "version": "3.6.6"
  }
 },
 "nbformat": 4,
 "nbformat_minor": 2
}
